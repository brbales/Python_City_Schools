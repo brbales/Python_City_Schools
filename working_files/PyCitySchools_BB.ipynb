{
 "cells": [
  {
   "cell_type": "code",
   "execution_count": 1,
   "metadata": {
    "collapsed": true
   },
   "outputs": [],
   "source": [
    "# modules\n",
    "import numpy as np\n",
    "import pandas as pd"
   ]
  },
  {
   "cell_type": "code",
   "execution_count": 2,
   "metadata": {},
   "outputs": [
    {
     "data": {
      "text/html": [
       "<div>\n",
       "<style>\n",
       "    .dataframe thead tr:only-child th {\n",
       "        text-align: right;\n",
       "    }\n",
       "\n",
       "    .dataframe thead th {\n",
       "        text-align: left;\n",
       "    }\n",
       "\n",
       "    .dataframe tbody tr th {\n",
       "        vertical-align: top;\n",
       "    }\n",
       "</style>\n",
       "<table border=\"1\" class=\"dataframe\">\n",
       "  <thead>\n",
       "    <tr style=\"text-align: right;\">\n",
       "      <th></th>\n",
       "      <th>School ID</th>\n",
       "      <th>School Name</th>\n",
       "      <th>type</th>\n",
       "      <th>size</th>\n",
       "      <th>budget</th>\n",
       "    </tr>\n",
       "  </thead>\n",
       "  <tbody>\n",
       "    <tr>\n",
       "      <th>0</th>\n",
       "      <td>0</td>\n",
       "      <td>Huang High School</td>\n",
       "      <td>District</td>\n",
       "      <td>2917</td>\n",
       "      <td>1910635</td>\n",
       "    </tr>\n",
       "    <tr>\n",
       "      <th>1</th>\n",
       "      <td>1</td>\n",
       "      <td>Figueroa High School</td>\n",
       "      <td>District</td>\n",
       "      <td>2949</td>\n",
       "      <td>1884411</td>\n",
       "    </tr>\n",
       "    <tr>\n",
       "      <th>2</th>\n",
       "      <td>2</td>\n",
       "      <td>Shelton High School</td>\n",
       "      <td>Charter</td>\n",
       "      <td>1761</td>\n",
       "      <td>1056600</td>\n",
       "    </tr>\n",
       "    <tr>\n",
       "      <th>3</th>\n",
       "      <td>3</td>\n",
       "      <td>Hernandez High School</td>\n",
       "      <td>District</td>\n",
       "      <td>4635</td>\n",
       "      <td>3022020</td>\n",
       "    </tr>\n",
       "    <tr>\n",
       "      <th>4</th>\n",
       "      <td>4</td>\n",
       "      <td>Griffin High School</td>\n",
       "      <td>Charter</td>\n",
       "      <td>1468</td>\n",
       "      <td>917500</td>\n",
       "    </tr>\n",
       "  </tbody>\n",
       "</table>\n",
       "</div>"
      ],
      "text/plain": [
       "   School ID            School Name      type  size   budget\n",
       "0          0      Huang High School  District  2917  1910635\n",
       "1          1   Figueroa High School  District  2949  1884411\n",
       "2          2    Shelton High School   Charter  1761  1056600\n",
       "3          3  Hernandez High School  District  4635  3022020\n",
       "4          4    Griffin High School   Charter  1468   917500"
      ]
     },
     "execution_count": 2,
     "metadata": {},
     "output_type": "execute_result"
    }
   ],
   "source": [
    "# read csv 1\n",
    "schools_df = pd.read_csv(\"../raw_data/schools_complete.csv\")\n",
    "# rename column\n",
    "schools_df.rename(columns={\"name\":\"School Name\"}, inplace=True)\n",
    "\n",
    "# sample school data table\n",
    "schools_df.head()"
   ]
  },
  {
   "cell_type": "code",
   "execution_count": 3,
   "metadata": {},
   "outputs": [
    {
     "data": {
      "text/plain": [
       "School ID      15\n",
       "School Name    15\n",
       "type           15\n",
       "size           15\n",
       "budget         15\n",
       "dtype: int64"
      ]
     },
     "execution_count": 3,
     "metadata": {},
     "output_type": "execute_result"
    }
   ],
   "source": [
    "# snapshot school data cleanliness\n",
    "schools_df.count()"
   ]
  },
  {
   "cell_type": "code",
   "execution_count": 4,
   "metadata": {},
   "outputs": [
    {
     "data": {
      "text/html": [
       "<div>\n",
       "<style>\n",
       "    .dataframe thead tr:only-child th {\n",
       "        text-align: right;\n",
       "    }\n",
       "\n",
       "    .dataframe thead th {\n",
       "        text-align: left;\n",
       "    }\n",
       "\n",
       "    .dataframe tbody tr th {\n",
       "        vertical-align: top;\n",
       "    }\n",
       "</style>\n",
       "<table border=\"1\" class=\"dataframe\">\n",
       "  <thead>\n",
       "    <tr style=\"text-align: right;\">\n",
       "      <th></th>\n",
       "      <th>Student ID</th>\n",
       "      <th>Student Name</th>\n",
       "      <th>gender</th>\n",
       "      <th>grade</th>\n",
       "      <th>School Name</th>\n",
       "      <th>reading_score</th>\n",
       "      <th>math_score</th>\n",
       "    </tr>\n",
       "  </thead>\n",
       "  <tbody>\n",
       "    <tr>\n",
       "      <th>0</th>\n",
       "      <td>0</td>\n",
       "      <td>Paul Bradley</td>\n",
       "      <td>M</td>\n",
       "      <td>9th</td>\n",
       "      <td>Huang High School</td>\n",
       "      <td>66</td>\n",
       "      <td>79</td>\n",
       "    </tr>\n",
       "    <tr>\n",
       "      <th>1</th>\n",
       "      <td>1</td>\n",
       "      <td>Victor Smith</td>\n",
       "      <td>M</td>\n",
       "      <td>12th</td>\n",
       "      <td>Huang High School</td>\n",
       "      <td>94</td>\n",
       "      <td>61</td>\n",
       "    </tr>\n",
       "    <tr>\n",
       "      <th>2</th>\n",
       "      <td>2</td>\n",
       "      <td>Kevin Rodriguez</td>\n",
       "      <td>M</td>\n",
       "      <td>12th</td>\n",
       "      <td>Huang High School</td>\n",
       "      <td>90</td>\n",
       "      <td>60</td>\n",
       "    </tr>\n",
       "    <tr>\n",
       "      <th>3</th>\n",
       "      <td>3</td>\n",
       "      <td>Dr. Richard Scott</td>\n",
       "      <td>M</td>\n",
       "      <td>12th</td>\n",
       "      <td>Huang High School</td>\n",
       "      <td>67</td>\n",
       "      <td>58</td>\n",
       "    </tr>\n",
       "    <tr>\n",
       "      <th>4</th>\n",
       "      <td>4</td>\n",
       "      <td>Bonnie Ray</td>\n",
       "      <td>F</td>\n",
       "      <td>9th</td>\n",
       "      <td>Huang High School</td>\n",
       "      <td>97</td>\n",
       "      <td>84</td>\n",
       "    </tr>\n",
       "  </tbody>\n",
       "</table>\n",
       "</div>"
      ],
      "text/plain": [
       "   Student ID       Student Name gender grade        School Name  \\\n",
       "0           0       Paul Bradley      M   9th  Huang High School   \n",
       "1           1       Victor Smith      M  12th  Huang High School   \n",
       "2           2    Kevin Rodriguez      M  12th  Huang High School   \n",
       "3           3  Dr. Richard Scott      M  12th  Huang High School   \n",
       "4           4         Bonnie Ray      F   9th  Huang High School   \n",
       "\n",
       "   reading_score  math_score  \n",
       "0             66          79  \n",
       "1             94          61  \n",
       "2             90          60  \n",
       "3             67          58  \n",
       "4             97          84  "
      ]
     },
     "execution_count": 4,
     "metadata": {},
     "output_type": "execute_result"
    }
   ],
   "source": [
    "# read csv \n",
    "students_df = pd.read_csv(\"../raw_data/students_complete.csv\")\n",
    "# rename column\n",
    "students_df.rename(columns={\"name\":\"Student Name\", \"school\":\"School Name\"}, inplace=True)\n",
    "\n",
    "# sample students data table\n",
    "students_df.head()"
   ]
  },
  {
   "cell_type": "code",
   "execution_count": 5,
   "metadata": {},
   "outputs": [
    {
     "data": {
      "text/plain": [
       "Student ID       39170\n",
       "Student Name     39170\n",
       "gender           39170\n",
       "grade            39170\n",
       "School Name      39170\n",
       "reading_score    39170\n",
       "math_score       39170\n",
       "dtype: int64"
      ]
     },
     "execution_count": 5,
     "metadata": {},
     "output_type": "execute_result"
    }
   ],
   "source": [
    "# snapshot students data cleanliness\n",
    "students_df.count()"
   ]
  },
  {
   "cell_type": "code",
   "execution_count": 6,
   "metadata": {},
   "outputs": [
    {
     "data": {
      "text/plain": [
       "15"
      ]
     },
     "execution_count": 6,
     "metadata": {},
     "output_type": "execute_result"
    }
   ],
   "source": [
    "# source data for district summary - table one\n",
    "# define Total Schools\n",
    "total_schools = schools_df[\"School ID\"].count()\n",
    "total_schools"
   ]
  },
  {
   "cell_type": "code",
   "execution_count": 7,
   "metadata": {},
   "outputs": [
    {
     "data": {
      "text/plain": [
       "39170"
      ]
     },
     "execution_count": 7,
     "metadata": {},
     "output_type": "execute_result"
    }
   ],
   "source": [
    "# source data for district summary - table one\n",
    "# define Total Students\n",
    "total_students = students_df[\"Student ID\"].count()\n",
    "total_students"
   ]
  },
  {
   "cell_type": "code",
   "execution_count": 8,
   "metadata": {},
   "outputs": [
    {
     "data": {
      "text/plain": [
       "24649428"
      ]
     },
     "execution_count": 8,
     "metadata": {},
     "output_type": "execute_result"
    }
   ],
   "source": [
    "# source data for district summary - table one\n",
    "# define Total Budget\n",
    "total_budget = schools_df[\"budget\"].sum()\n",
    "total_budget"
   ]
  },
  {
   "cell_type": "code",
   "execution_count": 9,
   "metadata": {},
   "outputs": [
    {
     "data": {
      "text/plain": [
       "78.98537145774827"
      ]
     },
     "execution_count": 9,
     "metadata": {},
     "output_type": "execute_result"
    }
   ],
   "source": [
    "# source data for district summary - table one\n",
    "# define Avg. Math\n",
    "avg_math = students_df[\"math_score\"].mean()\n",
    "avg_math"
   ]
  },
  {
   "cell_type": "code",
   "execution_count": 10,
   "metadata": {},
   "outputs": [
    {
     "data": {
      "text/plain": [
       "81.87784018381414"
      ]
     },
     "execution_count": 10,
     "metadata": {},
     "output_type": "execute_result"
    }
   ],
   "source": [
    "# source data for district summary - table one\n",
    "# define Avg. Reading\n",
    "avg_reading = students_df[\"reading_score\"].mean()\n",
    "avg_reading"
   ]
  },
  {
   "cell_type": "code",
   "execution_count": 11,
   "metadata": {},
   "outputs": [
    {
     "data": {
      "text/plain": [
       "92.445749297932096"
      ]
     },
     "execution_count": 11,
     "metadata": {},
     "output_type": "execute_result"
    }
   ],
   "source": [
    "# source data for district summary - table one\n",
    "# define % Pass Math\n",
    "mpass = (students_df[students_df[\"math_score\"]>=60].count())\n",
    "per_mpass = (mpass[\"math_score\"]/total_students)*100\n",
    "per_mpass"
   ]
  },
  {
   "cell_type": "code",
   "execution_count": 12,
   "metadata": {},
   "outputs": [
    {
     "data": {
      "text/plain": [
       "100.0"
      ]
     },
     "execution_count": 12,
     "metadata": {},
     "output_type": "execute_result"
    }
   ],
   "source": [
    "# source data for district summary - table one\n",
    "# define % Pass Reading\n",
    "rpass = (students_df[students_df[\"reading_score\"]>=60].count())\n",
    "per_rpass = (rpass[\"reading_score\"]/total_students)*100\n",
    "per_rpass"
   ]
  },
  {
   "cell_type": "code",
   "execution_count": 13,
   "metadata": {},
   "outputs": [
    {
     "data": {
      "text/plain": [
       "96.222874648966041"
      ]
     },
     "execution_count": 13,
     "metadata": {},
     "output_type": "execute_result"
    }
   ],
   "source": [
    "# source data for district summary - table one\n",
    "# define Dist. Pass Rate\n",
    "opass = (per_mpass+per_rpass)/2\n",
    "opass"
   ]
  },
  {
   "cell_type": "code",
   "execution_count": 14,
   "metadata": {},
   "outputs": [
    {
     "data": {
      "text/html": [
       "<div>\n",
       "<style>\n",
       "    .dataframe thead tr:only-child th {\n",
       "        text-align: right;\n",
       "    }\n",
       "\n",
       "    .dataframe thead th {\n",
       "        text-align: left;\n",
       "    }\n",
       "\n",
       "    .dataframe tbody tr th {\n",
       "        vertical-align: top;\n",
       "    }\n",
       "</style>\n",
       "<table border=\"1\" class=\"dataframe\">\n",
       "  <thead>\n",
       "    <tr style=\"text-align: right;\">\n",
       "      <th></th>\n",
       "      <th>Total Schools</th>\n",
       "      <th>Total Students</th>\n",
       "      <th>Total Budget</th>\n",
       "      <th>Avg. Math Score</th>\n",
       "      <th>Avg. Reading Score</th>\n",
       "      <th>% Pass Math</th>\n",
       "      <th>% Pass Reading</th>\n",
       "      <th>District Pass Rate</th>\n",
       "    </tr>\n",
       "  </thead>\n",
       "  <tbody>\n",
       "    <tr>\n",
       "      <th>0</th>\n",
       "      <td>15</td>\n",
       "      <td>39,170</td>\n",
       "      <td>$24649428.00</td>\n",
       "      <td>78.985371</td>\n",
       "      <td>81.87784</td>\n",
       "      <td>92.445749</td>\n",
       "      <td>100.0</td>\n",
       "      <td>96.222875</td>\n",
       "    </tr>\n",
       "  </tbody>\n",
       "</table>\n",
       "</div>"
      ],
      "text/plain": [
       "   Total Schools Total Students  Total Budget  Avg. Math Score  \\\n",
       "0             15         39,170  $24649428.00        78.985371   \n",
       "\n",
       "   Avg. Reading Score  % Pass Math  % Pass Reading  District Pass Rate  \n",
       "0            81.87784    92.445749           100.0           96.222875  "
      ]
     },
     "execution_count": 14,
     "metadata": {},
     "output_type": "execute_result"
    }
   ],
   "source": [
    "# make district summary - table one\n",
    "dist_summary = pd.DataFrame({\"Total Schools\": [total_schools], \"Total Students\": [total_students], \n",
    "             \"Total Budget\": [total_budget], \"Avg. Math Score\": [avg_math], \n",
    "             \"Avg. Reading Score\": [avg_reading], \"% Pass Math\": [per_mpass], \n",
    "             \"% Pass Reading\": [per_rpass], \"District Pass Rate\": [opass]})\n",
    "#cols1 = dist_summary.columns.tolist()\n",
    "#cols1\n",
    "dist_summary = dist_summary[['Total Schools', 'Total Students', 'Total Budget', 'Avg. Math Score', \n",
    "                             'Avg. Reading Score', '% Pass Math', '% Pass Reading', 'District Pass Rate']]\n",
    "# format student and budget columns\n",
    "dist_summary[\"Total Students\"] = dist_summary[\"Total Students\"].map(\"{:,}\".format)\n",
    "dist_summary[\"Total Budget\"] = dist_summary[\"Total Budget\"].map(\"${:.2f}\".format)\n",
    "\n",
    "# show table\n",
    "dist_summary"
   ]
  },
  {
   "cell_type": "code",
   "execution_count": 15,
   "metadata": {},
   "outputs": [
    {
     "data": {
      "text/html": [
       "<div>\n",
       "<style>\n",
       "    .dataframe thead tr:only-child th {\n",
       "        text-align: right;\n",
       "    }\n",
       "\n",
       "    .dataframe thead th {\n",
       "        text-align: left;\n",
       "    }\n",
       "\n",
       "    .dataframe tbody tr th {\n",
       "        vertical-align: top;\n",
       "    }\n",
       "</style>\n",
       "<table border=\"1\" class=\"dataframe\">\n",
       "  <thead>\n",
       "    <tr style=\"text-align: right;\">\n",
       "      <th></th>\n",
       "      <th>School ID</th>\n",
       "      <th>School Name</th>\n",
       "      <th>type</th>\n",
       "      <th>size</th>\n",
       "      <th>budget</th>\n",
       "      <th>Student ID</th>\n",
       "      <th>Student Name</th>\n",
       "      <th>gender</th>\n",
       "      <th>grade</th>\n",
       "      <th>reading_score</th>\n",
       "      <th>math_score</th>\n",
       "    </tr>\n",
       "  </thead>\n",
       "  <tbody>\n",
       "    <tr>\n",
       "      <th>0</th>\n",
       "      <td>0</td>\n",
       "      <td>Huang High School</td>\n",
       "      <td>District</td>\n",
       "      <td>2917</td>\n",
       "      <td>1910635</td>\n",
       "      <td>0</td>\n",
       "      <td>Paul Bradley</td>\n",
       "      <td>M</td>\n",
       "      <td>9th</td>\n",
       "      <td>66</td>\n",
       "      <td>79</td>\n",
       "    </tr>\n",
       "    <tr>\n",
       "      <th>1</th>\n",
       "      <td>0</td>\n",
       "      <td>Huang High School</td>\n",
       "      <td>District</td>\n",
       "      <td>2917</td>\n",
       "      <td>1910635</td>\n",
       "      <td>1</td>\n",
       "      <td>Victor Smith</td>\n",
       "      <td>M</td>\n",
       "      <td>12th</td>\n",
       "      <td>94</td>\n",
       "      <td>61</td>\n",
       "    </tr>\n",
       "    <tr>\n",
       "      <th>2</th>\n",
       "      <td>0</td>\n",
       "      <td>Huang High School</td>\n",
       "      <td>District</td>\n",
       "      <td>2917</td>\n",
       "      <td>1910635</td>\n",
       "      <td>2</td>\n",
       "      <td>Kevin Rodriguez</td>\n",
       "      <td>M</td>\n",
       "      <td>12th</td>\n",
       "      <td>90</td>\n",
       "      <td>60</td>\n",
       "    </tr>\n",
       "    <tr>\n",
       "      <th>3</th>\n",
       "      <td>0</td>\n",
       "      <td>Huang High School</td>\n",
       "      <td>District</td>\n",
       "      <td>2917</td>\n",
       "      <td>1910635</td>\n",
       "      <td>3</td>\n",
       "      <td>Dr. Richard Scott</td>\n",
       "      <td>M</td>\n",
       "      <td>12th</td>\n",
       "      <td>67</td>\n",
       "      <td>58</td>\n",
       "    </tr>\n",
       "    <tr>\n",
       "      <th>4</th>\n",
       "      <td>0</td>\n",
       "      <td>Huang High School</td>\n",
       "      <td>District</td>\n",
       "      <td>2917</td>\n",
       "      <td>1910635</td>\n",
       "      <td>4</td>\n",
       "      <td>Bonnie Ray</td>\n",
       "      <td>F</td>\n",
       "      <td>9th</td>\n",
       "      <td>97</td>\n",
       "      <td>84</td>\n",
       "    </tr>\n",
       "  </tbody>\n",
       "</table>\n",
       "</div>"
      ],
      "text/plain": [
       "   School ID        School Name      type  size   budget  Student ID  \\\n",
       "0          0  Huang High School  District  2917  1910635           0   \n",
       "1          0  Huang High School  District  2917  1910635           1   \n",
       "2          0  Huang High School  District  2917  1910635           2   \n",
       "3          0  Huang High School  District  2917  1910635           3   \n",
       "4          0  Huang High School  District  2917  1910635           4   \n",
       "\n",
       "        Student Name gender grade  reading_score  math_score  \n",
       "0       Paul Bradley      M   9th             66          79  \n",
       "1       Victor Smith      M  12th             94          61  \n",
       "2    Kevin Rodriguez      M  12th             90          60  \n",
       "3  Dr. Richard Scott      M  12th             67          58  \n",
       "4         Bonnie Ray      F   9th             97          84  "
      ]
     },
     "execution_count": 15,
     "metadata": {},
     "output_type": "execute_result"
    }
   ],
   "source": [
    "# source data for school summary - table two\n",
    "merge_df = pd.merge(schools_df, students_df, on=\"School Name\", how=\"outer\")\n",
    "merge_df.head()\n",
    "\n",
    "# define School Name \n",
    "# define School Type\n",
    "# define Total School Budget\n",
    "# define Per Student Budget\n",
    "# define Average Math Score\n",
    "# define Average Reading Score\n",
    "# define % Passing Math\n",
    "# define % Passing Reading\n",
    "# define Overall Passing Rate\n"
   ]
  },
  {
   "cell_type": "code",
   "execution_count": 16,
   "metadata": {
    "collapsed": true
   },
   "outputs": [],
   "source": [
    "# source data for school summary - table two\n",
    "# define Total Students\n",
    "stu_count = merge_df[\"School Name\"].value_counts()\n",
    "#stu_count"
   ]
  },
  {
   "cell_type": "code",
   "execution_count": 17,
   "metadata": {
    "collapsed": true,
    "scrolled": true
   },
   "outputs": [],
   "source": [
    "stu_count_df = pd.DataFrame(stu_count)\n",
    "#stu_count_df.rename(columns={\"budget\":\"misc\"}, inplace=True)\n",
    "#stu_count_df"
   ]
  },
  {
   "cell_type": "code",
   "execution_count": 91,
   "metadata": {},
   "outputs": [
    {
     "data": {
      "text/plain": [
       "School Name\n",
       "Bailey High School       77.048432\n",
       "Cabrera High School      83.061895\n",
       "Figueroa High School     76.711767\n",
       "Ford High School         77.102592\n",
       "Griffin High School      83.351499\n",
       "Hernandez High School    77.289752\n",
       "Holden High School       83.803279\n",
       "Huang High School        76.629414\n",
       "Johnson High School      77.072464\n",
       "Pena High School         83.839917\n",
       "Rodriguez High School    76.842711\n",
       "Shelton High School      83.359455\n",
       "Thomas High School       83.418349\n",
       "Wilson High School       83.274201\n",
       "Wright High School       83.682222\n",
       "Name: math_score, dtype: float64"
      ]
     },
     "execution_count": 91,
     "metadata": {},
     "output_type": "execute_result"
    }
   ],
   "source": [
    "# define Average Math Score\n",
    "school_mpass = merge_df.groupby(\"School Name\")[\"math_score\"].mean()\n",
    "school_mpass"
   ]
  },
  {
   "cell_type": "code",
   "execution_count": 19,
   "metadata": {
    "collapsed": true
   },
   "outputs": [],
   "source": [
    "school_mpass_df = pd.DataFrame(school_mpass)\n",
    "#school_mpass_df.head()"
   ]
  },
  {
   "cell_type": "code",
   "execution_count": 20,
   "metadata": {
    "collapsed": true
   },
   "outputs": [],
   "source": [
    "# define Average Reading Score\n",
    "school_rpass = merge_df.groupby(\"School Name\")[\"reading_score\"].mean()\n",
    "#school_rpass"
   ]
  },
  {
   "cell_type": "code",
   "execution_count": 21,
   "metadata": {
    "collapsed": true
   },
   "outputs": [],
   "source": [
    "school_rpass_df = pd.DataFrame(school_rpass)\n",
    "#school_rpass_df.head()"
   ]
  },
  {
   "cell_type": "code",
   "execution_count": 22,
   "metadata": {
    "collapsed": true
   },
   "outputs": [],
   "source": [
    "# define type\n",
    "school_type = schools_df.groupby(\"School Name\")[\"type\"].describe()"
   ]
  },
  {
   "cell_type": "code",
   "execution_count": 23,
   "metadata": {
    "collapsed": true
   },
   "outputs": [],
   "source": [
    "school_type_df = pd.DataFrame(school_type)\n",
    "#school_type_df"
   ]
  },
  {
   "cell_type": "code",
   "execution_count": 24,
   "metadata": {
    "collapsed": true
   },
   "outputs": [],
   "source": [
    "school_type_df2 = school_type_df.drop([\"count\", \"unique\", \"freq\"], axis=1)\n",
    "school_type_df2.rename(columns={\"top\":\"type\"}, inplace=True)\n",
    "#school_type_df2"
   ]
  },
  {
   "cell_type": "code",
   "execution_count": 25,
   "metadata": {
    "collapsed": true
   },
   "outputs": [],
   "source": [
    "# school budget\n",
    "school_budget = schools_df.groupby(\"School Name\")[\"budget\"].describe()"
   ]
  },
  {
   "cell_type": "code",
   "execution_count": 26,
   "metadata": {
    "collapsed": true
   },
   "outputs": [],
   "source": [
    "school_budget_df = pd.DataFrame(school_budget)\n",
    "#school_budget_df"
   ]
  },
  {
   "cell_type": "code",
   "execution_count": 27,
   "metadata": {
    "collapsed": true
   },
   "outputs": [],
   "source": [
    "school_budget_df2 = school_budget_df.drop([\"count\", \"mean\", \"std\", \"min\", \"25%\", \"50%\", \"75%\"], axis=1)\n",
    "school_budget_df2.rename(columns={\"max\":\"budget\"}, inplace=True)\n",
    "#school_budget_df2[\"budget\"] = school_budget_df2[\"budget\"].map(\"${:.2f}\".format)\n",
    "#school_budget_df2"
   ]
  },
  {
   "cell_type": "code",
   "execution_count": 28,
   "metadata": {
    "collapsed": true
   },
   "outputs": [],
   "source": [
    "# number of students\n",
    "school_stu = schools_df.groupby(\"School Name\")[\"size\"].describe()"
   ]
  },
  {
   "cell_type": "code",
   "execution_count": 29,
   "metadata": {
    "collapsed": true
   },
   "outputs": [],
   "source": [
    "school_stu_df = pd.DataFrame(school_stu)\n",
    "school_stu_df\n",
    "school_stu_df2 = school_stu_df.drop([\"count\", \"mean\", \"std\", \"min\", \"25%\", \"50%\", \"75%\"], axis=1)\n",
    "school_stu_df2.rename(columns={\"max\":\"# Students\"}, inplace=True)\n",
    "#school_stu_df2"
   ]
  },
  {
   "cell_type": "code",
   "execution_count": 30,
   "metadata": {
    "collapsed": true
   },
   "outputs": [],
   "source": [
    "# seperate out only passing math scores\n",
    "each_mpass = merge_df.loc[merge_df[\"math_score\"]>=60]\n",
    "#each_mpass.head()\n",
    "#per_mpass = (mpass[\"math_score\"]/total_students)*100\n",
    "#per_mpass"
   ]
  },
  {
   "cell_type": "code",
   "execution_count": 31,
   "metadata": {
    "collapsed": true
   },
   "outputs": [],
   "source": [
    "each_mpass = each_mpass.groupby(\"School Name\").count()\n",
    "each_mpass = each_mpass.drop([\"School ID\", \"type\", \"size\", \"budget\", \"Student ID\", \"Student Name\", \n",
    "                              \"gender\", \"grade\", \"reading_score\"], axis=1)\n",
    "#each_mpass"
   ]
  },
  {
   "cell_type": "code",
   "execution_count": 32,
   "metadata": {
    "collapsed": true
   },
   "outputs": [],
   "source": [
    "#each_mpass = (each_mpass[\"math_score\"]/total_students)*100\n",
    "\n",
    "merge_each_mpass = each_mpass.join(school_stu_df2[\"# Students\"], how=\"left\", sort=False)\n",
    "#merge_each_mpass"
   ]
  },
  {
   "cell_type": "code",
   "execution_count": 33,
   "metadata": {
    "collapsed": true
   },
   "outputs": [],
   "source": [
    "merge_each_mpass[\"% Pass Math\"] = ((merge_each_mpass[\"math_score\"])/(merge_each_mpass[\"# Students\"]))*100\n",
    "#merge_each_mpass"
   ]
  },
  {
   "cell_type": "code",
   "execution_count": 34,
   "metadata": {
    "collapsed": true
   },
   "outputs": [],
   "source": [
    "# seperate out only passing reading scores\n",
    "each_rpass = merge_df.loc[merge_df[\"reading_score\"]>=60]\n",
    "#each_rpass.head()"
   ]
  },
  {
   "cell_type": "code",
   "execution_count": 35,
   "metadata": {
    "collapsed": true
   },
   "outputs": [],
   "source": [
    "each_rpass = each_rpass.groupby(\"School Name\").count()\n",
    "each_rpass = each_rpass.drop([\"School ID\", \"type\", \"size\", \"budget\", \"Student ID\", \"Student Name\", \n",
    "                              \"gender\", \"grade\", \"math_score\"], axis=1)\n",
    "#each_rpass"
   ]
  },
  {
   "cell_type": "code",
   "execution_count": 36,
   "metadata": {
    "collapsed": true
   },
   "outputs": [],
   "source": [
    "merge_each_rpass = each_rpass.join(school_stu_df2[\"# Students\"], how=\"left\", sort=False)\n",
    "merge_each_rpass[\"% Pass Reading\"] = ((merge_each_rpass[\"reading_score\"])/(merge_each_rpass[\"# Students\"]))*100\n",
    "\n",
    "#merge_each_rpass"
   ]
  },
  {
   "cell_type": "code",
   "execution_count": 37,
   "metadata": {
    "collapsed": true
   },
   "outputs": [],
   "source": [
    "school_pass = merge_each_rpass.join(merge_each_mpass[\"math_score\"], how=\"left\", sort=False)\n",
    "#school_pass"
   ]
  },
  {
   "cell_type": "code",
   "execution_count": 38,
   "metadata": {
    "collapsed": true
   },
   "outputs": [],
   "source": [
    "school_pass[\"% Pass Math\"] = ((school_pass[\"math_score\"])/(school_pass[\"# Students\"]))*100\n",
    "#school_pass"
   ]
  },
  {
   "cell_type": "code",
   "execution_count": 39,
   "metadata": {
    "collapsed": true
   },
   "outputs": [],
   "source": [
    "school_pass[\"Pass Rate\"] = ((school_pass[\"% Pass Reading\"])+(school_pass[\"% Pass Math\"]))/2\n",
    "#school_pass"
   ]
  },
  {
   "cell_type": "code",
   "execution_count": 40,
   "metadata": {
    "collapsed": true
   },
   "outputs": [],
   "source": [
    "school_summary = school_pass.drop([\"reading_score\", \"math_score\"], axis=1)\n",
    "#school_summary"
   ]
  },
  {
   "cell_type": "code",
   "execution_count": 41,
   "metadata": {
    "collapsed": true
   },
   "outputs": [],
   "source": [
    "school_summary = school_summary.join(school_type_df2[\"type\"], how=\"left\", sort=False)\n",
    "#school_summary"
   ]
  },
  {
   "cell_type": "code",
   "execution_count": 42,
   "metadata": {
    "collapsed": true
   },
   "outputs": [],
   "source": [
    "school_summary = school_summary.join(school_budget_df2[\"budget\"], how=\"left\", sort=False)\n",
    "#school_summary"
   ]
  },
  {
   "cell_type": "code",
   "execution_count": 43,
   "metadata": {
    "collapsed": true
   },
   "outputs": [],
   "source": [
    "school_summary[\"Per Stu Budget\"] = ((school_summary[\"budget\"])/(school_summary[\"# Students\"]))\n",
    "#school_summary"
   ]
  },
  {
   "cell_type": "code",
   "execution_count": 44,
   "metadata": {
    "collapsed": true
   },
   "outputs": [],
   "source": [
    "school_summary = school_summary.join(school_rpass_df[\"reading_score\"], how=\"left\", sort=False)\n",
    "#school_summary"
   ]
  },
  {
   "cell_type": "code",
   "execution_count": 45,
   "metadata": {
    "collapsed": true
   },
   "outputs": [],
   "source": [
    "school_summary = school_summary.join(school_mpass_df[\"math_score\"], how=\"left\", sort=False)\n",
    "#school_summary"
   ]
  },
  {
   "cell_type": "code",
   "execution_count": 46,
   "metadata": {},
   "outputs": [
    {
     "data": {
      "text/html": [
       "<div>\n",
       "<style>\n",
       "    .dataframe thead tr:only-child th {\n",
       "        text-align: right;\n",
       "    }\n",
       "\n",
       "    .dataframe thead th {\n",
       "        text-align: left;\n",
       "    }\n",
       "\n",
       "    .dataframe tbody tr th {\n",
       "        vertical-align: top;\n",
       "    }\n",
       "</style>\n",
       "<table border=\"1\" class=\"dataframe\">\n",
       "  <thead>\n",
       "    <tr style=\"text-align: right;\">\n",
       "      <th></th>\n",
       "      <th>School Type</th>\n",
       "      <th># Students</th>\n",
       "      <th>Budget</th>\n",
       "      <th>Per Stu Budget</th>\n",
       "      <th>Avg Stu Math Score</th>\n",
       "      <th>% Pass Math</th>\n",
       "      <th>Avg Stu Reading Score</th>\n",
       "      <th>% Pass Reading</th>\n",
       "      <th>Pass Rate</th>\n",
       "    </tr>\n",
       "    <tr>\n",
       "      <th>School Name</th>\n",
       "      <th></th>\n",
       "      <th></th>\n",
       "      <th></th>\n",
       "      <th></th>\n",
       "      <th></th>\n",
       "      <th></th>\n",
       "      <th></th>\n",
       "      <th></th>\n",
       "      <th></th>\n",
       "    </tr>\n",
       "  </thead>\n",
       "  <tbody>\n",
       "    <tr>\n",
       "      <th>Bailey High School</th>\n",
       "      <td>District</td>\n",
       "      <td>4976.0</td>\n",
       "      <td>$3124928.00</td>\n",
       "      <td>628.0</td>\n",
       "      <td>77.048432</td>\n",
       "      <td>89.529743</td>\n",
       "      <td>81.033963</td>\n",
       "      <td>100.0</td>\n",
       "      <td>94.764871</td>\n",
       "    </tr>\n",
       "    <tr>\n",
       "      <th>Cabrera High School</th>\n",
       "      <td>Charter</td>\n",
       "      <td>1858.0</td>\n",
       "      <td>$1081356.00</td>\n",
       "      <td>582.0</td>\n",
       "      <td>83.061895</td>\n",
       "      <td>100.000000</td>\n",
       "      <td>83.975780</td>\n",
       "      <td>100.0</td>\n",
       "      <td>100.000000</td>\n",
       "    </tr>\n",
       "    <tr>\n",
       "      <th>Figueroa High School</th>\n",
       "      <td>District</td>\n",
       "      <td>2949.0</td>\n",
       "      <td>$1884411.00</td>\n",
       "      <td>639.0</td>\n",
       "      <td>76.711767</td>\n",
       "      <td>88.436758</td>\n",
       "      <td>81.158020</td>\n",
       "      <td>100.0</td>\n",
       "      <td>94.218379</td>\n",
       "    </tr>\n",
       "    <tr>\n",
       "      <th>Ford High School</th>\n",
       "      <td>District</td>\n",
       "      <td>2739.0</td>\n",
       "      <td>$1763916.00</td>\n",
       "      <td>644.0</td>\n",
       "      <td>77.102592</td>\n",
       "      <td>89.302665</td>\n",
       "      <td>80.746258</td>\n",
       "      <td>100.0</td>\n",
       "      <td>94.651333</td>\n",
       "    </tr>\n",
       "    <tr>\n",
       "      <th>Griffin High School</th>\n",
       "      <td>Charter</td>\n",
       "      <td>1468.0</td>\n",
       "      <td>$917500.00</td>\n",
       "      <td>625.0</td>\n",
       "      <td>83.351499</td>\n",
       "      <td>100.000000</td>\n",
       "      <td>83.816757</td>\n",
       "      <td>100.0</td>\n",
       "      <td>100.000000</td>\n",
       "    </tr>\n",
       "    <tr>\n",
       "      <th>Hernandez High School</th>\n",
       "      <td>District</td>\n",
       "      <td>4635.0</td>\n",
       "      <td>$3022020.00</td>\n",
       "      <td>652.0</td>\n",
       "      <td>77.289752</td>\n",
       "      <td>89.083064</td>\n",
       "      <td>80.934412</td>\n",
       "      <td>100.0</td>\n",
       "      <td>94.541532</td>\n",
       "    </tr>\n",
       "    <tr>\n",
       "      <th>Holden High School</th>\n",
       "      <td>Charter</td>\n",
       "      <td>427.0</td>\n",
       "      <td>$248087.00</td>\n",
       "      <td>581.0</td>\n",
       "      <td>83.803279</td>\n",
       "      <td>100.000000</td>\n",
       "      <td>83.814988</td>\n",
       "      <td>100.0</td>\n",
       "      <td>100.000000</td>\n",
       "    </tr>\n",
       "    <tr>\n",
       "      <th>Huang High School</th>\n",
       "      <td>District</td>\n",
       "      <td>2917.0</td>\n",
       "      <td>$1910635.00</td>\n",
       "      <td>655.0</td>\n",
       "      <td>76.629414</td>\n",
       "      <td>88.858416</td>\n",
       "      <td>81.182722</td>\n",
       "      <td>100.0</td>\n",
       "      <td>94.429208</td>\n",
       "    </tr>\n",
       "    <tr>\n",
       "      <th>Johnson High School</th>\n",
       "      <td>District</td>\n",
       "      <td>4761.0</td>\n",
       "      <td>$3094650.00</td>\n",
       "      <td>650.0</td>\n",
       "      <td>77.072464</td>\n",
       "      <td>89.182945</td>\n",
       "      <td>80.966394</td>\n",
       "      <td>100.0</td>\n",
       "      <td>94.591472</td>\n",
       "    </tr>\n",
       "    <tr>\n",
       "      <th>Pena High School</th>\n",
       "      <td>Charter</td>\n",
       "      <td>962.0</td>\n",
       "      <td>$585858.00</td>\n",
       "      <td>609.0</td>\n",
       "      <td>83.839917</td>\n",
       "      <td>100.000000</td>\n",
       "      <td>84.044699</td>\n",
       "      <td>100.0</td>\n",
       "      <td>100.000000</td>\n",
       "    </tr>\n",
       "    <tr>\n",
       "      <th>Rodriguez High School</th>\n",
       "      <td>District</td>\n",
       "      <td>3999.0</td>\n",
       "      <td>$2547363.00</td>\n",
       "      <td>637.0</td>\n",
       "      <td>76.842711</td>\n",
       "      <td>88.547137</td>\n",
       "      <td>80.744686</td>\n",
       "      <td>100.0</td>\n",
       "      <td>94.273568</td>\n",
       "    </tr>\n",
       "    <tr>\n",
       "      <th>Shelton High School</th>\n",
       "      <td>Charter</td>\n",
       "      <td>1761.0</td>\n",
       "      <td>$1056600.00</td>\n",
       "      <td>600.0</td>\n",
       "      <td>83.359455</td>\n",
       "      <td>100.000000</td>\n",
       "      <td>83.725724</td>\n",
       "      <td>100.0</td>\n",
       "      <td>100.000000</td>\n",
       "    </tr>\n",
       "    <tr>\n",
       "      <th>Thomas High School</th>\n",
       "      <td>Charter</td>\n",
       "      <td>1635.0</td>\n",
       "      <td>$1043130.00</td>\n",
       "      <td>638.0</td>\n",
       "      <td>83.418349</td>\n",
       "      <td>100.000000</td>\n",
       "      <td>83.848930</td>\n",
       "      <td>100.0</td>\n",
       "      <td>100.000000</td>\n",
       "    </tr>\n",
       "    <tr>\n",
       "      <th>Wilson High School</th>\n",
       "      <td>Charter</td>\n",
       "      <td>2283.0</td>\n",
       "      <td>$1319574.00</td>\n",
       "      <td>578.0</td>\n",
       "      <td>83.274201</td>\n",
       "      <td>100.000000</td>\n",
       "      <td>83.989488</td>\n",
       "      <td>100.0</td>\n",
       "      <td>100.000000</td>\n",
       "    </tr>\n",
       "    <tr>\n",
       "      <th>Wright High School</th>\n",
       "      <td>Charter</td>\n",
       "      <td>1800.0</td>\n",
       "      <td>$1049400.00</td>\n",
       "      <td>583.0</td>\n",
       "      <td>83.682222</td>\n",
       "      <td>100.000000</td>\n",
       "      <td>83.955000</td>\n",
       "      <td>100.0</td>\n",
       "      <td>100.000000</td>\n",
       "    </tr>\n",
       "  </tbody>\n",
       "</table>\n",
       "</div>"
      ],
      "text/plain": [
       "                      School Type  # Students       Budget  Per Stu Budget  \\\n",
       "School Name                                                                  \n",
       "Bailey High School       District      4976.0  $3124928.00           628.0   \n",
       "Cabrera High School       Charter      1858.0  $1081356.00           582.0   \n",
       "Figueroa High School     District      2949.0  $1884411.00           639.0   \n",
       "Ford High School         District      2739.0  $1763916.00           644.0   \n",
       "Griffin High School       Charter      1468.0   $917500.00           625.0   \n",
       "Hernandez High School    District      4635.0  $3022020.00           652.0   \n",
       "Holden High School        Charter       427.0   $248087.00           581.0   \n",
       "Huang High School        District      2917.0  $1910635.00           655.0   \n",
       "Johnson High School      District      4761.0  $3094650.00           650.0   \n",
       "Pena High School          Charter       962.0   $585858.00           609.0   \n",
       "Rodriguez High School    District      3999.0  $2547363.00           637.0   \n",
       "Shelton High School       Charter      1761.0  $1056600.00           600.0   \n",
       "Thomas High School        Charter      1635.0  $1043130.00           638.0   \n",
       "Wilson High School        Charter      2283.0  $1319574.00           578.0   \n",
       "Wright High School        Charter      1800.0  $1049400.00           583.0   \n",
       "\n",
       "                       Avg Stu Math Score  % Pass Math  Avg Stu Reading Score  \\\n",
       "School Name                                                                     \n",
       "Bailey High School              77.048432    89.529743              81.033963   \n",
       "Cabrera High School             83.061895   100.000000              83.975780   \n",
       "Figueroa High School            76.711767    88.436758              81.158020   \n",
       "Ford High School                77.102592    89.302665              80.746258   \n",
       "Griffin High School             83.351499   100.000000              83.816757   \n",
       "Hernandez High School           77.289752    89.083064              80.934412   \n",
       "Holden High School              83.803279   100.000000              83.814988   \n",
       "Huang High School               76.629414    88.858416              81.182722   \n",
       "Johnson High School             77.072464    89.182945              80.966394   \n",
       "Pena High School                83.839917   100.000000              84.044699   \n",
       "Rodriguez High School           76.842711    88.547137              80.744686   \n",
       "Shelton High School             83.359455   100.000000              83.725724   \n",
       "Thomas High School              83.418349   100.000000              83.848930   \n",
       "Wilson High School              83.274201   100.000000              83.989488   \n",
       "Wright High School              83.682222   100.000000              83.955000   \n",
       "\n",
       "                       % Pass Reading   Pass Rate  \n",
       "School Name                                        \n",
       "Bailey High School              100.0   94.764871  \n",
       "Cabrera High School             100.0  100.000000  \n",
       "Figueroa High School            100.0   94.218379  \n",
       "Ford High School                100.0   94.651333  \n",
       "Griffin High School             100.0  100.000000  \n",
       "Hernandez High School           100.0   94.541532  \n",
       "Holden High School              100.0  100.000000  \n",
       "Huang High School               100.0   94.429208  \n",
       "Johnson High School             100.0   94.591472  \n",
       "Pena High School                100.0  100.000000  \n",
       "Rodriguez High School           100.0   94.273568  \n",
       "Shelton High School             100.0  100.000000  \n",
       "Thomas High School              100.0  100.000000  \n",
       "Wilson High School              100.0  100.000000  \n",
       "Wright High School              100.0  100.000000  "
      ]
     },
     "execution_count": 46,
     "metadata": {},
     "output_type": "execute_result"
    }
   ],
   "source": [
    "# Final School Summary - table two\n",
    "school_summary.rename(columns={\"budget\":\"Budget\", \"type\":\"School Type\", \n",
    "                               \"math_score\":\"Avg Stu Math Score\", \n",
    "                               \"reading_score\":\"Avg Stu Reading Score\"}, inplace=True)\n",
    "\n",
    "school_summary = school_summary[[\"School Type\", \"# Students\", \"Budget\", \"Per Stu Budget\", \"Avg Stu Math Score\", \n",
    "                              \"% Pass Math\", \"Avg Stu Reading Score\", \"% Pass Reading\", \"Pass Rate\"]]\n",
    "\n",
    "# format student and budget columns\n",
    "school_summary[\"Budget\"] = school_summary[\"Budget\"].map(\"${:.2f}\".format)\n",
    "#school_summary[\"Per Stu Budget\"] = school_summary[\"Per Stu Budget\"].map(\"${:.2f}\".format)\n",
    "\n",
    "school_summary"
   ]
  },
  {
   "cell_type": "code",
   "execution_count": 47,
   "metadata": {},
   "outputs": [
    {
     "data": {
      "text/plain": [
       "School Type               object\n",
       "# Students               float64\n",
       "Budget                    object\n",
       "Per Stu Budget           float64\n",
       "Avg Stu Math Score       float64\n",
       "% Pass Math              float64\n",
       "Avg Stu Reading Score    float64\n",
       "% Pass Reading           float64\n",
       "Pass Rate                float64\n",
       "dtype: object"
      ]
     },
     "execution_count": 47,
     "metadata": {},
     "output_type": "execute_result"
    }
   ],
   "source": [
    "school_summary.dtypes"
   ]
  },
  {
   "cell_type": "code",
   "execution_count": 48,
   "metadata": {},
   "outputs": [
    {
     "data": {
      "text/html": [
       "<div>\n",
       "<style>\n",
       "    .dataframe thead tr:only-child th {\n",
       "        text-align: right;\n",
       "    }\n",
       "\n",
       "    .dataframe thead th {\n",
       "        text-align: left;\n",
       "    }\n",
       "\n",
       "    .dataframe tbody tr th {\n",
       "        vertical-align: top;\n",
       "    }\n",
       "</style>\n",
       "<table border=\"1\" class=\"dataframe\">\n",
       "  <thead>\n",
       "    <tr style=\"text-align: right;\">\n",
       "      <th></th>\n",
       "      <th>School Type</th>\n",
       "      <th># Students</th>\n",
       "      <th>Budget</th>\n",
       "      <th>Per Stu Budget</th>\n",
       "      <th>Avg Stu Math Score</th>\n",
       "      <th>% Pass Math</th>\n",
       "      <th>Avg Stu Reading Score</th>\n",
       "      <th>% Pass Reading</th>\n",
       "      <th>Pass Rate</th>\n",
       "    </tr>\n",
       "    <tr>\n",
       "      <th>School Name</th>\n",
       "      <th></th>\n",
       "      <th></th>\n",
       "      <th></th>\n",
       "      <th></th>\n",
       "      <th></th>\n",
       "      <th></th>\n",
       "      <th></th>\n",
       "      <th></th>\n",
       "      <th></th>\n",
       "    </tr>\n",
       "  </thead>\n",
       "  <tbody>\n",
       "    <tr>\n",
       "      <th>Pena High School</th>\n",
       "      <td>Charter</td>\n",
       "      <td>962.0</td>\n",
       "      <td>$585858.00</td>\n",
       "      <td>609.0</td>\n",
       "      <td>83.839917</td>\n",
       "      <td>100.0</td>\n",
       "      <td>84.044699</td>\n",
       "      <td>100.0</td>\n",
       "      <td>100.0</td>\n",
       "    </tr>\n",
       "    <tr>\n",
       "      <th>Holden High School</th>\n",
       "      <td>Charter</td>\n",
       "      <td>427.0</td>\n",
       "      <td>$248087.00</td>\n",
       "      <td>581.0</td>\n",
       "      <td>83.803279</td>\n",
       "      <td>100.0</td>\n",
       "      <td>83.814988</td>\n",
       "      <td>100.0</td>\n",
       "      <td>100.0</td>\n",
       "    </tr>\n",
       "    <tr>\n",
       "      <th>Wright High School</th>\n",
       "      <td>Charter</td>\n",
       "      <td>1800.0</td>\n",
       "      <td>$1049400.00</td>\n",
       "      <td>583.0</td>\n",
       "      <td>83.682222</td>\n",
       "      <td>100.0</td>\n",
       "      <td>83.955000</td>\n",
       "      <td>100.0</td>\n",
       "      <td>100.0</td>\n",
       "    </tr>\n",
       "    <tr>\n",
       "      <th>Thomas High School</th>\n",
       "      <td>Charter</td>\n",
       "      <td>1635.0</td>\n",
       "      <td>$1043130.00</td>\n",
       "      <td>638.0</td>\n",
       "      <td>83.418349</td>\n",
       "      <td>100.0</td>\n",
       "      <td>83.848930</td>\n",
       "      <td>100.0</td>\n",
       "      <td>100.0</td>\n",
       "    </tr>\n",
       "    <tr>\n",
       "      <th>Shelton High School</th>\n",
       "      <td>Charter</td>\n",
       "      <td>1761.0</td>\n",
       "      <td>$1056600.00</td>\n",
       "      <td>600.0</td>\n",
       "      <td>83.359455</td>\n",
       "      <td>100.0</td>\n",
       "      <td>83.725724</td>\n",
       "      <td>100.0</td>\n",
       "      <td>100.0</td>\n",
       "    </tr>\n",
       "  </tbody>\n",
       "</table>\n",
       "</div>"
      ],
      "text/plain": [
       "                    School Type  # Students       Budget  Per Stu Budget  \\\n",
       "School Name                                                                \n",
       "Pena High School        Charter       962.0   $585858.00           609.0   \n",
       "Holden High School      Charter       427.0   $248087.00           581.0   \n",
       "Wright High School      Charter      1800.0  $1049400.00           583.0   \n",
       "Thomas High School      Charter      1635.0  $1043130.00           638.0   \n",
       "Shelton High School     Charter      1761.0  $1056600.00           600.0   \n",
       "\n",
       "                     Avg Stu Math Score  % Pass Math  Avg Stu Reading Score  \\\n",
       "School Name                                                                   \n",
       "Pena High School              83.839917        100.0              84.044699   \n",
       "Holden High School            83.803279        100.0              83.814988   \n",
       "Wright High School            83.682222        100.0              83.955000   \n",
       "Thomas High School            83.418349        100.0              83.848930   \n",
       "Shelton High School           83.359455        100.0              83.725724   \n",
       "\n",
       "                     % Pass Reading  Pass Rate  \n",
       "School Name                                     \n",
       "Pena High School              100.0      100.0  \n",
       "Holden High School            100.0      100.0  \n",
       "Wright High School            100.0      100.0  \n",
       "Thomas High School            100.0      100.0  \n",
       "Shelton High School           100.0      100.0  "
      ]
     },
     "execution_count": 48,
     "metadata": {},
     "output_type": "execute_result"
    }
   ],
   "source": [
    "# Top Performing Schools (pass rate) - table three\n",
    "top_school_summary = school_summary.sort_values([\"Pass Rate\",\"Avg Stu Math Score\"], ascending=False)\n",
    "top_school_summary.head()\n",
    "# 6 schools have 100% pass rate, so Avg Stu Math Score is used as secondary condition"
   ]
  },
  {
   "cell_type": "code",
   "execution_count": 49,
   "metadata": {},
   "outputs": [
    {
     "data": {
      "text/html": [
       "<div>\n",
       "<style>\n",
       "    .dataframe thead tr:only-child th {\n",
       "        text-align: right;\n",
       "    }\n",
       "\n",
       "    .dataframe thead th {\n",
       "        text-align: left;\n",
       "    }\n",
       "\n",
       "    .dataframe tbody tr th {\n",
       "        vertical-align: top;\n",
       "    }\n",
       "</style>\n",
       "<table border=\"1\" class=\"dataframe\">\n",
       "  <thead>\n",
       "    <tr style=\"text-align: right;\">\n",
       "      <th></th>\n",
       "      <th>School Type</th>\n",
       "      <th># Students</th>\n",
       "      <th>Budget</th>\n",
       "      <th>Per Stu Budget</th>\n",
       "      <th>Avg Stu Math Score</th>\n",
       "      <th>% Pass Math</th>\n",
       "      <th>Avg Stu Reading Score</th>\n",
       "      <th>% Pass Reading</th>\n",
       "      <th>Pass Rate</th>\n",
       "    </tr>\n",
       "    <tr>\n",
       "      <th>School Name</th>\n",
       "      <th></th>\n",
       "      <th></th>\n",
       "      <th></th>\n",
       "      <th></th>\n",
       "      <th></th>\n",
       "      <th></th>\n",
       "      <th></th>\n",
       "      <th></th>\n",
       "      <th></th>\n",
       "    </tr>\n",
       "  </thead>\n",
       "  <tbody>\n",
       "    <tr>\n",
       "      <th>Figueroa High School</th>\n",
       "      <td>District</td>\n",
       "      <td>2949.0</td>\n",
       "      <td>$1884411.00</td>\n",
       "      <td>639.0</td>\n",
       "      <td>76.711767</td>\n",
       "      <td>88.436758</td>\n",
       "      <td>81.158020</td>\n",
       "      <td>100.0</td>\n",
       "      <td>94.218379</td>\n",
       "    </tr>\n",
       "    <tr>\n",
       "      <th>Rodriguez High School</th>\n",
       "      <td>District</td>\n",
       "      <td>3999.0</td>\n",
       "      <td>$2547363.00</td>\n",
       "      <td>637.0</td>\n",
       "      <td>76.842711</td>\n",
       "      <td>88.547137</td>\n",
       "      <td>80.744686</td>\n",
       "      <td>100.0</td>\n",
       "      <td>94.273568</td>\n",
       "    </tr>\n",
       "    <tr>\n",
       "      <th>Huang High School</th>\n",
       "      <td>District</td>\n",
       "      <td>2917.0</td>\n",
       "      <td>$1910635.00</td>\n",
       "      <td>655.0</td>\n",
       "      <td>76.629414</td>\n",
       "      <td>88.858416</td>\n",
       "      <td>81.182722</td>\n",
       "      <td>100.0</td>\n",
       "      <td>94.429208</td>\n",
       "    </tr>\n",
       "    <tr>\n",
       "      <th>Hernandez High School</th>\n",
       "      <td>District</td>\n",
       "      <td>4635.0</td>\n",
       "      <td>$3022020.00</td>\n",
       "      <td>652.0</td>\n",
       "      <td>77.289752</td>\n",
       "      <td>89.083064</td>\n",
       "      <td>80.934412</td>\n",
       "      <td>100.0</td>\n",
       "      <td>94.541532</td>\n",
       "    </tr>\n",
       "    <tr>\n",
       "      <th>Johnson High School</th>\n",
       "      <td>District</td>\n",
       "      <td>4761.0</td>\n",
       "      <td>$3094650.00</td>\n",
       "      <td>650.0</td>\n",
       "      <td>77.072464</td>\n",
       "      <td>89.182945</td>\n",
       "      <td>80.966394</td>\n",
       "      <td>100.0</td>\n",
       "      <td>94.591472</td>\n",
       "    </tr>\n",
       "  </tbody>\n",
       "</table>\n",
       "</div>"
      ],
      "text/plain": [
       "                      School Type  # Students       Budget  Per Stu Budget  \\\n",
       "School Name                                                                  \n",
       "Figueroa High School     District      2949.0  $1884411.00           639.0   \n",
       "Rodriguez High School    District      3999.0  $2547363.00           637.0   \n",
       "Huang High School        District      2917.0  $1910635.00           655.0   \n",
       "Hernandez High School    District      4635.0  $3022020.00           652.0   \n",
       "Johnson High School      District      4761.0  $3094650.00           650.0   \n",
       "\n",
       "                       Avg Stu Math Score  % Pass Math  Avg Stu Reading Score  \\\n",
       "School Name                                                                     \n",
       "Figueroa High School            76.711767    88.436758              81.158020   \n",
       "Rodriguez High School           76.842711    88.547137              80.744686   \n",
       "Huang High School               76.629414    88.858416              81.182722   \n",
       "Hernandez High School           77.289752    89.083064              80.934412   \n",
       "Johnson High School             77.072464    89.182945              80.966394   \n",
       "\n",
       "                       % Pass Reading  Pass Rate  \n",
       "School Name                                       \n",
       "Figueroa High School            100.0  94.218379  \n",
       "Rodriguez High School           100.0  94.273568  \n",
       "Huang High School               100.0  94.429208  \n",
       "Hernandez High School           100.0  94.541532  \n",
       "Johnson High School             100.0  94.591472  "
      ]
     },
     "execution_count": 49,
     "metadata": {},
     "output_type": "execute_result"
    }
   ],
   "source": [
    "# Bottom Performing Schools (pass rate) - table four\n",
    "bottom_school_summary = school_summary.sort_values([\"Pass Rate\",\"Avg Stu Math Score\"], ascending=True)\n",
    "bottom_school_summary.head()"
   ]
  },
  {
   "cell_type": "code",
   "execution_count": 50,
   "metadata": {
    "collapsed": true
   },
   "outputs": [],
   "source": [
    "# start scores by grade level by school\n",
    "# drop excess columns from merge_df\n",
    "merge_grades = merge_df.drop([\"type\", \"size\", \"budget\", \"Student ID\", \"Student Name\", \"gender\", \n",
    "                              \"School ID\"], axis=1)\n",
    "#merge_grades.head()"
   ]
  },
  {
   "cell_type": "code",
   "execution_count": 51,
   "metadata": {
    "collapsed": true
   },
   "outputs": [],
   "source": [
    "nine_df = merge_grades.loc[merge_grades[\"grade\"] == \"9th\",:]\n",
    "\n",
    "nine_df2 = nine_df.groupby(\"School Name\").describe()\n",
    "\n",
    "#nine_df2.head()"
   ]
  },
  {
   "cell_type": "code",
   "execution_count": 52,
   "metadata": {
    "collapsed": true,
    "scrolled": false
   },
   "outputs": [],
   "source": [
    "#nine_df3 = nine_df2.drop([\"count\", \"std\", \"min\", \"25%\", \"50%\", \"75%\", \n",
    "#                              \"max\"], axis=1)\n",
    "nine_df3 = nine_df2.iloc[:,[1, 9]]\n",
    "#nine_df3.head()\n"
   ]
  },
  {
   "cell_type": "code",
   "execution_count": 53,
   "metadata": {
    "scrolled": true
   },
   "outputs": [
    {
     "name": "stderr",
     "output_type": "stream",
     "text": [
      "C:\\Users\\brbal\\AppData\\Local\\conda\\conda\\envs\\PythonData\\lib\\site-packages\\ipykernel\\__main__.py:1: SettingWithCopyWarning: \n",
      "A value is trying to be set on a copy of a slice from a DataFrame.\n",
      "Try using .loc[row_indexer,col_indexer] = value instead\n",
      "\n",
      "See the caveats in the documentation: http://pandas.pydata.org/pandas-docs/stable/indexing.html#indexing-view-versus-copy\n",
      "  if __name__ == '__main__':\n",
      "C:\\Users\\brbal\\AppData\\Local\\conda\\conda\\envs\\PythonData\\lib\\site-packages\\ipykernel\\__main__.py:2: SettingWithCopyWarning: \n",
      "A value is trying to be set on a copy of a slice from a DataFrame.\n",
      "Try using .loc[row_indexer,col_indexer] = value instead\n",
      "\n",
      "See the caveats in the documentation: http://pandas.pydata.org/pandas-docs/stable/indexing.html#indexing-view-versus-copy\n",
      "  from ipykernel import kernelapp as app\n"
     ]
    }
   ],
   "source": [
    "nine_df3[\"9th Math Avg\"] = nine_df3[(\"math_score\", \"mean\")]\n",
    "nine_df3[\"9th Reading Avg\"] = nine_df3[(\"reading_score\", \"mean\")]\n",
    "#nine_df3.head()"
   ]
  },
  {
   "cell_type": "code",
   "execution_count": 54,
   "metadata": {
    "collapsed": true
   },
   "outputs": [],
   "source": [
    "nine_df4 = nine_df3.iloc[:,[2, 3]]\n",
    "#nine_df4.head()"
   ]
  },
  {
   "cell_type": "code",
   "execution_count": 55,
   "metadata": {
    "collapsed": true
   },
   "outputs": [],
   "source": [
    "ten_df = merge_grades.loc[merge_grades[\"grade\"] == \"10th\",:]\n",
    "\n",
    "ten_df2 = ten_df.groupby(\"School Name\").describe()\n",
    "\n",
    "#ten_df2.head()"
   ]
  },
  {
   "cell_type": "code",
   "execution_count": 56,
   "metadata": {
    "collapsed": true
   },
   "outputs": [],
   "source": [
    "ten_df3 = ten_df2.iloc[:,[1, 9]]\n",
    "#ten_df3.head()\n"
   ]
  },
  {
   "cell_type": "code",
   "execution_count": 57,
   "metadata": {
    "scrolled": true
   },
   "outputs": [
    {
     "name": "stderr",
     "output_type": "stream",
     "text": [
      "C:\\Users\\brbal\\AppData\\Local\\conda\\conda\\envs\\PythonData\\lib\\site-packages\\ipykernel\\__main__.py:1: SettingWithCopyWarning: \n",
      "A value is trying to be set on a copy of a slice from a DataFrame.\n",
      "Try using .loc[row_indexer,col_indexer] = value instead\n",
      "\n",
      "See the caveats in the documentation: http://pandas.pydata.org/pandas-docs/stable/indexing.html#indexing-view-versus-copy\n",
      "  if __name__ == '__main__':\n",
      "C:\\Users\\brbal\\AppData\\Local\\conda\\conda\\envs\\PythonData\\lib\\site-packages\\ipykernel\\__main__.py:2: SettingWithCopyWarning: \n",
      "A value is trying to be set on a copy of a slice from a DataFrame.\n",
      "Try using .loc[row_indexer,col_indexer] = value instead\n",
      "\n",
      "See the caveats in the documentation: http://pandas.pydata.org/pandas-docs/stable/indexing.html#indexing-view-versus-copy\n",
      "  from ipykernel import kernelapp as app\n"
     ]
    }
   ],
   "source": [
    "ten_df3[\"10th Math Avg\"] = ten_df3[(\"math_score\", \"mean\")]\n",
    "ten_df3[\"10th Reading Avg\"] = ten_df3[(\"reading_score\", \"mean\")]\n",
    "#ten_df3.head()"
   ]
  },
  {
   "cell_type": "code",
   "execution_count": 58,
   "metadata": {
    "collapsed": true
   },
   "outputs": [],
   "source": [
    "ten_df4 = ten_df3.iloc[:,[2, 3]]\n",
    "#ten_df4.head()"
   ]
  },
  {
   "cell_type": "code",
   "execution_count": 59,
   "metadata": {
    "collapsed": true
   },
   "outputs": [],
   "source": [
    "eleven_df = merge_grades.loc[merge_grades[\"grade\"] == \"11th\",:]\n",
    "\n",
    "eleven_df2 = eleven_df.groupby(\"School Name\").describe()\n",
    "\n",
    "#eleven_df2.head()"
   ]
  },
  {
   "cell_type": "code",
   "execution_count": 60,
   "metadata": {
    "collapsed": true,
    "scrolled": true
   },
   "outputs": [],
   "source": [
    "eleven_df3 = eleven_df2.iloc[:,[1, 9]]\n",
    "#eleven_df3.head()\n"
   ]
  },
  {
   "cell_type": "code",
   "execution_count": 61,
   "metadata": {},
   "outputs": [
    {
     "name": "stderr",
     "output_type": "stream",
     "text": [
      "C:\\Users\\brbal\\AppData\\Local\\conda\\conda\\envs\\PythonData\\lib\\site-packages\\ipykernel\\__main__.py:1: SettingWithCopyWarning: \n",
      "A value is trying to be set on a copy of a slice from a DataFrame.\n",
      "Try using .loc[row_indexer,col_indexer] = value instead\n",
      "\n",
      "See the caveats in the documentation: http://pandas.pydata.org/pandas-docs/stable/indexing.html#indexing-view-versus-copy\n",
      "  if __name__ == '__main__':\n",
      "C:\\Users\\brbal\\AppData\\Local\\conda\\conda\\envs\\PythonData\\lib\\site-packages\\ipykernel\\__main__.py:2: SettingWithCopyWarning: \n",
      "A value is trying to be set on a copy of a slice from a DataFrame.\n",
      "Try using .loc[row_indexer,col_indexer] = value instead\n",
      "\n",
      "See the caveats in the documentation: http://pandas.pydata.org/pandas-docs/stable/indexing.html#indexing-view-versus-copy\n",
      "  from ipykernel import kernelapp as app\n"
     ]
    }
   ],
   "source": [
    "eleven_df3[\"11th Math Avg\"] = eleven_df3[(\"math_score\", \"mean\")]\n",
    "eleven_df3[\"11th Reading Avg\"] = eleven_df3[(\"reading_score\", \"mean\")]\n",
    "#eleven_df3.head()"
   ]
  },
  {
   "cell_type": "code",
   "execution_count": 62,
   "metadata": {
    "collapsed": true
   },
   "outputs": [],
   "source": [
    "eleven_df4 = eleven_df3.iloc[:,[2, 3]]\n",
    "#eleven_df4.head()"
   ]
  },
  {
   "cell_type": "code",
   "execution_count": 63,
   "metadata": {
    "collapsed": true
   },
   "outputs": [],
   "source": [
    "twelve_df = merge_grades.loc[merge_grades[\"grade\"] == \"12th\",:]\n",
    "\n",
    "twelve_df2 = twelve_df.groupby(\"School Name\").describe()\n",
    "\n",
    "#twelve_df2.head()"
   ]
  },
  {
   "cell_type": "code",
   "execution_count": 64,
   "metadata": {
    "collapsed": true
   },
   "outputs": [],
   "source": [
    "twelve_df3 = twelve_df2.iloc[:,[1, 9]]\n",
    "#twelve_df3.head()\n"
   ]
  },
  {
   "cell_type": "code",
   "execution_count": 65,
   "metadata": {},
   "outputs": [
    {
     "name": "stderr",
     "output_type": "stream",
     "text": [
      "C:\\Users\\brbal\\AppData\\Local\\conda\\conda\\envs\\PythonData\\lib\\site-packages\\ipykernel\\__main__.py:1: SettingWithCopyWarning: \n",
      "A value is trying to be set on a copy of a slice from a DataFrame.\n",
      "Try using .loc[row_indexer,col_indexer] = value instead\n",
      "\n",
      "See the caveats in the documentation: http://pandas.pydata.org/pandas-docs/stable/indexing.html#indexing-view-versus-copy\n",
      "  if __name__ == '__main__':\n",
      "C:\\Users\\brbal\\AppData\\Local\\conda\\conda\\envs\\PythonData\\lib\\site-packages\\ipykernel\\__main__.py:2: SettingWithCopyWarning: \n",
      "A value is trying to be set on a copy of a slice from a DataFrame.\n",
      "Try using .loc[row_indexer,col_indexer] = value instead\n",
      "\n",
      "See the caveats in the documentation: http://pandas.pydata.org/pandas-docs/stable/indexing.html#indexing-view-versus-copy\n",
      "  from ipykernel import kernelapp as app\n"
     ]
    }
   ],
   "source": [
    "twelve_df3[\"12th Math Avg\"] = twelve_df3[(\"math_score\", \"mean\")]\n",
    "twelve_df3[\"12th Reading Avg\"] = twelve_df3[(\"reading_score\", \"mean\")]\n",
    "#twelve_df3.head()"
   ]
  },
  {
   "cell_type": "code",
   "execution_count": 66,
   "metadata": {
    "collapsed": true
   },
   "outputs": [],
   "source": [
    "twelve_df4 = twelve_df3.iloc[:,[2, 3]]\n",
    "#twelve_df4.head()"
   ]
  },
  {
   "cell_type": "code",
   "execution_count": 67,
   "metadata": {
    "collapsed": true
   },
   "outputs": [],
   "source": [
    "grade_math_school = nine_df3.iloc[:,[2]]\n",
    "#grade_math_school.head()"
   ]
  },
  {
   "cell_type": "code",
   "execution_count": 68,
   "metadata": {},
   "outputs": [
    {
     "name": "stderr",
     "output_type": "stream",
     "text": [
      "C:\\Users\\brbal\\AppData\\Local\\conda\\conda\\envs\\PythonData\\lib\\site-packages\\pandas\\core\\reshape\\merge.py:551: UserWarning: merging between different levels can give an unintended result (2 levels on the left, 1 on the right)\n",
      "  warnings.warn(msg, UserWarning)\n"
     ]
    }
   ],
   "source": [
    "grade_math_school = grade_math_school.join(ten_df3[\"10th Math Avg\"], how=\"left\", sort=False)\n",
    "#grade_math_school.head()"
   ]
  },
  {
   "cell_type": "code",
   "execution_count": 69,
   "metadata": {
    "collapsed": true
   },
   "outputs": [],
   "source": [
    "grade_math_school = grade_math_school.join(eleven_df3[\"11th Math Avg\"], how=\"left\", sort=False)\n",
    "#grade_math_school.head()"
   ]
  },
  {
   "cell_type": "code",
   "execution_count": 70,
   "metadata": {
    "collapsed": true,
    "scrolled": true
   },
   "outputs": [],
   "source": [
    "grade_math_school = grade_math_school.join(twelve_df3[\"12th Math Avg\"], how=\"left\", sort=False)\n",
    "#grade_math_school.head()"
   ]
  },
  {
   "cell_type": "code",
   "execution_count": 71,
   "metadata": {},
   "outputs": [
    {
     "data": {
      "text/html": [
       "<div>\n",
       "<style>\n",
       "    .dataframe thead tr:only-child th {\n",
       "        text-align: right;\n",
       "    }\n",
       "\n",
       "    .dataframe thead th {\n",
       "        text-align: left;\n",
       "    }\n",
       "\n",
       "    .dataframe tbody tr th {\n",
       "        vertical-align: top;\n",
       "    }\n",
       "</style>\n",
       "<table border=\"1\" class=\"dataframe\">\n",
       "  <thead>\n",
       "    <tr style=\"text-align: right;\">\n",
       "      <th></th>\n",
       "      <th>9th Math Avg</th>\n",
       "      <th>10th Math Avg</th>\n",
       "      <th>11th Math Avg</th>\n",
       "      <th>12th Math Avg</th>\n",
       "    </tr>\n",
       "    <tr>\n",
       "      <th>School Name</th>\n",
       "      <th></th>\n",
       "      <th></th>\n",
       "      <th></th>\n",
       "      <th></th>\n",
       "    </tr>\n",
       "  </thead>\n",
       "  <tbody>\n",
       "    <tr>\n",
       "      <th>Bailey High School</th>\n",
       "      <td>77.083676</td>\n",
       "      <td>76.996772</td>\n",
       "      <td>77.515588</td>\n",
       "      <td>76.492218</td>\n",
       "    </tr>\n",
       "    <tr>\n",
       "      <th>Cabrera High School</th>\n",
       "      <td>83.094697</td>\n",
       "      <td>83.154506</td>\n",
       "      <td>82.765560</td>\n",
       "      <td>83.277487</td>\n",
       "    </tr>\n",
       "    <tr>\n",
       "      <th>Figueroa High School</th>\n",
       "      <td>76.403037</td>\n",
       "      <td>76.539974</td>\n",
       "      <td>76.884344</td>\n",
       "      <td>77.151369</td>\n",
       "    </tr>\n",
       "    <tr>\n",
       "      <th>Ford High School</th>\n",
       "      <td>77.361345</td>\n",
       "      <td>77.672316</td>\n",
       "      <td>76.918058</td>\n",
       "      <td>76.179963</td>\n",
       "    </tr>\n",
       "    <tr>\n",
       "      <th>Griffin High School</th>\n",
       "      <td>82.044010</td>\n",
       "      <td>84.229064</td>\n",
       "      <td>83.842105</td>\n",
       "      <td>83.356164</td>\n",
       "    </tr>\n",
       "  </tbody>\n",
       "</table>\n",
       "</div>"
      ],
      "text/plain": [
       "                      9th Math Avg  10th Math Avg  11th Math Avg  \\\n",
       "School Name                                                        \n",
       "Bailey High School       77.083676      76.996772      77.515588   \n",
       "Cabrera High School      83.094697      83.154506      82.765560   \n",
       "Figueroa High School     76.403037      76.539974      76.884344   \n",
       "Ford High School         77.361345      77.672316      76.918058   \n",
       "Griffin High School      82.044010      84.229064      83.842105   \n",
       "\n",
       "                      12th Math Avg  \n",
       "School Name                          \n",
       "Bailey High School        76.492218  \n",
       "Cabrera High School       83.277487  \n",
       "Figueroa High School      77.151369  \n",
       "Ford High School          76.179963  \n",
       "Griffin High School       83.356164  "
      ]
     },
     "execution_count": 71,
     "metadata": {},
     "output_type": "execute_result"
    }
   ],
   "source": [
    "# rename 9th to match format\n",
    "# final Math per Grade by School - table five\n",
    "grade_math_school.rename(columns={('9th Math Avg', ''):'9th Math Avg'}, inplace=True)\n",
    "grade_math_school.head()"
   ]
  },
  {
   "cell_type": "code",
   "execution_count": 72,
   "metadata": {
    "collapsed": true
   },
   "outputs": [],
   "source": [
    "grade_reading_school = nine_df3.iloc[:,[3]]\n",
    "#grade_reading_school.head()"
   ]
  },
  {
   "cell_type": "code",
   "execution_count": 73,
   "metadata": {},
   "outputs": [
    {
     "name": "stderr",
     "output_type": "stream",
     "text": [
      "C:\\Users\\brbal\\AppData\\Local\\conda\\conda\\envs\\PythonData\\lib\\site-packages\\pandas\\core\\reshape\\merge.py:551: UserWarning: merging between different levels can give an unintended result (2 levels on the left, 1 on the right)\n",
      "  warnings.warn(msg, UserWarning)\n"
     ]
    }
   ],
   "source": [
    "grade_reading_school = grade_reading_school.join(ten_df3[\"10th Reading Avg\"], how=\"left\", sort=False)\n",
    "#grade_reading_school.head()"
   ]
  },
  {
   "cell_type": "code",
   "execution_count": 74,
   "metadata": {
    "collapsed": true
   },
   "outputs": [],
   "source": [
    "grade_reading_school = grade_reading_school.join(eleven_df3[\"11th Reading Avg\"], how=\"left\", sort=False)\n",
    "#grade_reading_school.head()"
   ]
  },
  {
   "cell_type": "code",
   "execution_count": 75,
   "metadata": {
    "collapsed": true
   },
   "outputs": [],
   "source": [
    "grade_reading_school = grade_reading_school.join(twelve_df3[\"12th Reading Avg\"], how=\"left\", sort=False)\n",
    "#grade_reading_school.head()"
   ]
  },
  {
   "cell_type": "code",
   "execution_count": 76,
   "metadata": {
    "scrolled": true
   },
   "outputs": [
    {
     "data": {
      "text/plain": [
       "[('9th Reading Avg', ''),\n",
       " '10th Reading Avg',\n",
       " '11th Reading Avg',\n",
       " '12th Reading Avg']"
      ]
     },
     "execution_count": 76,
     "metadata": {},
     "output_type": "execute_result"
    }
   ],
   "source": [
    "list(grade_reading_school)"
   ]
  },
  {
   "cell_type": "code",
   "execution_count": 77,
   "metadata": {},
   "outputs": [
    {
     "data": {
      "text/html": [
       "<div>\n",
       "<style>\n",
       "    .dataframe thead tr:only-child th {\n",
       "        text-align: right;\n",
       "    }\n",
       "\n",
       "    .dataframe thead th {\n",
       "        text-align: left;\n",
       "    }\n",
       "\n",
       "    .dataframe tbody tr th {\n",
       "        vertical-align: top;\n",
       "    }\n",
       "</style>\n",
       "<table border=\"1\" class=\"dataframe\">\n",
       "  <thead>\n",
       "    <tr style=\"text-align: right;\">\n",
       "      <th></th>\n",
       "      <th>9th Reading Avg</th>\n",
       "      <th>10th Reading Avg</th>\n",
       "      <th>11th Reading Avg</th>\n",
       "      <th>12th Reading Avg</th>\n",
       "    </tr>\n",
       "    <tr>\n",
       "      <th>School Name</th>\n",
       "      <th></th>\n",
       "      <th></th>\n",
       "      <th></th>\n",
       "      <th></th>\n",
       "    </tr>\n",
       "  </thead>\n",
       "  <tbody>\n",
       "    <tr>\n",
       "      <th>Bailey High School</th>\n",
       "      <td>81.303155</td>\n",
       "      <td>80.907183</td>\n",
       "      <td>80.945643</td>\n",
       "      <td>80.912451</td>\n",
       "    </tr>\n",
       "    <tr>\n",
       "      <th>Cabrera High School</th>\n",
       "      <td>83.676136</td>\n",
       "      <td>84.253219</td>\n",
       "      <td>83.788382</td>\n",
       "      <td>84.287958</td>\n",
       "    </tr>\n",
       "    <tr>\n",
       "      <th>Figueroa High School</th>\n",
       "      <td>81.198598</td>\n",
       "      <td>81.408912</td>\n",
       "      <td>80.640339</td>\n",
       "      <td>81.384863</td>\n",
       "    </tr>\n",
       "    <tr>\n",
       "      <th>Ford High School</th>\n",
       "      <td>80.632653</td>\n",
       "      <td>81.262712</td>\n",
       "      <td>80.403642</td>\n",
       "      <td>80.662338</td>\n",
       "    </tr>\n",
       "    <tr>\n",
       "      <th>Griffin High School</th>\n",
       "      <td>83.369193</td>\n",
       "      <td>83.706897</td>\n",
       "      <td>84.288089</td>\n",
       "      <td>84.013699</td>\n",
       "    </tr>\n",
       "  </tbody>\n",
       "</table>\n",
       "</div>"
      ],
      "text/plain": [
       "                      9th Reading Avg  10th Reading Avg  11th Reading Avg  \\\n",
       "School Name                                                                 \n",
       "Bailey High School          81.303155         80.907183         80.945643   \n",
       "Cabrera High School         83.676136         84.253219         83.788382   \n",
       "Figueroa High School        81.198598         81.408912         80.640339   \n",
       "Ford High School            80.632653         81.262712         80.403642   \n",
       "Griffin High School         83.369193         83.706897         84.288089   \n",
       "\n",
       "                      12th Reading Avg  \n",
       "School Name                             \n",
       "Bailey High School           80.912451  \n",
       "Cabrera High School          84.287958  \n",
       "Figueroa High School         81.384863  \n",
       "Ford High School             80.662338  \n",
       "Griffin High School          84.013699  "
      ]
     },
     "execution_count": 77,
     "metadata": {},
     "output_type": "execute_result"
    }
   ],
   "source": [
    "# rename 9th to match format\n",
    "# final Reading per Grade by School - table six\n",
    "grade_reading_school.rename(columns={('9th Reading Avg', ''):'9th Reading Avg'}, inplace=True)\n",
    "grade_reading_school.head()"
   ]
  },
  {
   "cell_type": "code",
   "execution_count": 78,
   "metadata": {},
   "outputs": [
    {
     "data": {
      "text/html": [
       "<div>\n",
       "<style>\n",
       "    .dataframe thead tr:only-child th {\n",
       "        text-align: right;\n",
       "    }\n",
       "\n",
       "    .dataframe thead th {\n",
       "        text-align: left;\n",
       "    }\n",
       "\n",
       "    .dataframe tbody tr th {\n",
       "        vertical-align: top;\n",
       "    }\n",
       "</style>\n",
       "<table border=\"1\" class=\"dataframe\">\n",
       "  <thead>\n",
       "    <tr style=\"text-align: right;\">\n",
       "      <th></th>\n",
       "      <th>Per Stu Budget</th>\n",
       "      <th>Avg Stu Math Score</th>\n",
       "      <th>% Pass Math</th>\n",
       "      <th>Avg Stu Reading Score</th>\n",
       "      <th>% Pass Reading</th>\n",
       "      <th>Pass Rate</th>\n",
       "    </tr>\n",
       "    <tr>\n",
       "      <th>School Name</th>\n",
       "      <th></th>\n",
       "      <th></th>\n",
       "      <th></th>\n",
       "      <th></th>\n",
       "      <th></th>\n",
       "      <th></th>\n",
       "    </tr>\n",
       "  </thead>\n",
       "  <tbody>\n",
       "    <tr>\n",
       "      <th>Bailey High School</th>\n",
       "      <td>628.0</td>\n",
       "      <td>77.048432</td>\n",
       "      <td>89.529743</td>\n",
       "      <td>81.033963</td>\n",
       "      <td>100.0</td>\n",
       "      <td>94.764871</td>\n",
       "    </tr>\n",
       "    <tr>\n",
       "      <th>Cabrera High School</th>\n",
       "      <td>582.0</td>\n",
       "      <td>83.061895</td>\n",
       "      <td>100.000000</td>\n",
       "      <td>83.975780</td>\n",
       "      <td>100.0</td>\n",
       "      <td>100.000000</td>\n",
       "    </tr>\n",
       "    <tr>\n",
       "      <th>Figueroa High School</th>\n",
       "      <td>639.0</td>\n",
       "      <td>76.711767</td>\n",
       "      <td>88.436758</td>\n",
       "      <td>81.158020</td>\n",
       "      <td>100.0</td>\n",
       "      <td>94.218379</td>\n",
       "    </tr>\n",
       "    <tr>\n",
       "      <th>Ford High School</th>\n",
       "      <td>644.0</td>\n",
       "      <td>77.102592</td>\n",
       "      <td>89.302665</td>\n",
       "      <td>80.746258</td>\n",
       "      <td>100.0</td>\n",
       "      <td>94.651333</td>\n",
       "    </tr>\n",
       "    <tr>\n",
       "      <th>Griffin High School</th>\n",
       "      <td>625.0</td>\n",
       "      <td>83.351499</td>\n",
       "      <td>100.000000</td>\n",
       "      <td>83.816757</td>\n",
       "      <td>100.0</td>\n",
       "      <td>100.000000</td>\n",
       "    </tr>\n",
       "  </tbody>\n",
       "</table>\n",
       "</div>"
      ],
      "text/plain": [
       "                      Per Stu Budget  Avg Stu Math Score  % Pass Math  \\\n",
       "School Name                                                             \n",
       "Bailey High School             628.0           77.048432    89.529743   \n",
       "Cabrera High School            582.0           83.061895   100.000000   \n",
       "Figueroa High School           639.0           76.711767    88.436758   \n",
       "Ford High School               644.0           77.102592    89.302665   \n",
       "Griffin High School            625.0           83.351499   100.000000   \n",
       "\n",
       "                      Avg Stu Reading Score  % Pass Reading   Pass Rate  \n",
       "School Name                                                              \n",
       "Bailey High School                81.033963           100.0   94.764871  \n",
       "Cabrera High School               83.975780           100.0  100.000000  \n",
       "Figueroa High School              81.158020           100.0   94.218379  \n",
       "Ford High School                  80.746258           100.0   94.651333  \n",
       "Griffin High School               83.816757           100.0  100.000000  "
      ]
     },
     "execution_count": 78,
     "metadata": {},
     "output_type": "execute_result"
    }
   ],
   "source": [
    "# create scores (pass rate) by school spending per stu\n",
    "school_perstu = school_summary.iloc[:,[3,4,5,6,7,8]]\n",
    "school_perstu.head()"
   ]
  },
  {
   "cell_type": "code",
   "execution_count": 79,
   "metadata": {
    "scrolled": true
   },
   "outputs": [
    {
     "data": {
      "text/plain": [
       "Per Stu Budget           float64\n",
       "Avg Stu Math Score       float64\n",
       "% Pass Math              float64\n",
       "Avg Stu Reading Score    float64\n",
       "% Pass Reading           float64\n",
       "Pass Rate                float64\n",
       "dtype: object"
      ]
     },
     "execution_count": 79,
     "metadata": {},
     "output_type": "execute_result"
    }
   ],
   "source": [
    "#school_perstu[\"Per Stu Budget\"] = pd.to_numeric(school_perstu[\"Per Stu Budget\"])\n",
    "school_perstu.dtypes"
   ]
  },
  {
   "cell_type": "code",
   "execution_count": 80,
   "metadata": {
    "collapsed": true
   },
   "outputs": [],
   "source": [
    "# create bin and bin names\n",
    "bins = [0, 585, 615, 645, 675]\n",
    "\n",
    "group_names = [\"<$585\", \"$585-$615\", \"$615-$645\", \"$645-$675\"]"
   ]
  },
  {
   "cell_type": "code",
   "execution_count": 81,
   "metadata": {},
   "outputs": [
    {
     "data": {
      "text/plain": [
       "School Name\n",
       "Bailey High School       $615-$645\n",
       "Cabrera High School          <$585\n",
       "Figueroa High School     $615-$645\n",
       "Ford High School         $615-$645\n",
       "Griffin High School      $615-$645\n",
       "Hernandez High School    $645-$675\n",
       "Holden High School           <$585\n",
       "Huang High School        $645-$675\n",
       "Johnson High School      $645-$675\n",
       "Pena High School         $585-$615\n",
       "Rodriguez High School    $615-$645\n",
       "Shelton High School      $585-$615\n",
       "Thomas High School       $615-$645\n",
       "Wilson High School           <$585\n",
       "Wright High School           <$585\n",
       "Name: Per Stu Budget, dtype: category\n",
       "Categories (4, object): [<$585 < $585-$615 < $615-$645 < $645-$675]"
      ]
     },
     "execution_count": 81,
     "metadata": {},
     "output_type": "execute_result"
    }
   ],
   "source": [
    "pd.cut(school_perstu[\"Per Stu Budget\"], bins, labels=group_names)"
   ]
  },
  {
   "cell_type": "code",
   "execution_count": 82,
   "metadata": {},
   "outputs": [
    {
     "name": "stderr",
     "output_type": "stream",
     "text": [
      "C:\\Users\\brbal\\AppData\\Local\\conda\\conda\\envs\\PythonData\\lib\\site-packages\\ipykernel\\__main__.py:1: SettingWithCopyWarning: \n",
      "A value is trying to be set on a copy of a slice from a DataFrame.\n",
      "Try using .loc[row_indexer,col_indexer] = value instead\n",
      "\n",
      "See the caveats in the documentation: http://pandas.pydata.org/pandas-docs/stable/indexing.html#indexing-view-versus-copy\n",
      "  if __name__ == '__main__':\n"
     ]
    }
   ],
   "source": [
    "school_perstu[\"Est Per Stu Spending\"] = pd.cut(school_perstu[\"Per Stu Budget\"], bins, labels=group_names)\n",
    "#school_perstu.head()"
   ]
  },
  {
   "cell_type": "code",
   "execution_count": 83,
   "metadata": {},
   "outputs": [
    {
     "data": {
      "text/html": [
       "<div>\n",
       "<style>\n",
       "    .dataframe thead tr:only-child th {\n",
       "        text-align: right;\n",
       "    }\n",
       "\n",
       "    .dataframe thead th {\n",
       "        text-align: left;\n",
       "    }\n",
       "\n",
       "    .dataframe tbody tr th {\n",
       "        vertical-align: top;\n",
       "    }\n",
       "</style>\n",
       "<table border=\"1\" class=\"dataframe\">\n",
       "  <thead>\n",
       "    <tr style=\"text-align: right;\">\n",
       "      <th></th>\n",
       "      <th>Per Stu Budget</th>\n",
       "      <th>Avg Stu Math Score</th>\n",
       "      <th>% Pass Math</th>\n",
       "      <th>Avg Stu Reading Score</th>\n",
       "      <th>% Pass Reading</th>\n",
       "      <th>Pass Rate</th>\n",
       "    </tr>\n",
       "    <tr>\n",
       "      <th>Est Per Stu Spending</th>\n",
       "      <th></th>\n",
       "      <th></th>\n",
       "      <th></th>\n",
       "      <th></th>\n",
       "      <th></th>\n",
       "      <th></th>\n",
       "    </tr>\n",
       "  </thead>\n",
       "  <tbody>\n",
       "    <tr>\n",
       "      <th>&lt;$585</th>\n",
       "      <td>581.000000</td>\n",
       "      <td>83.455399</td>\n",
       "      <td>100.000000</td>\n",
       "      <td>83.933814</td>\n",
       "      <td>100.0</td>\n",
       "      <td>100.000000</td>\n",
       "    </tr>\n",
       "    <tr>\n",
       "      <th>$585-$615</th>\n",
       "      <td>604.500000</td>\n",
       "      <td>83.599686</td>\n",
       "      <td>100.000000</td>\n",
       "      <td>83.885211</td>\n",
       "      <td>100.0</td>\n",
       "      <td>100.000000</td>\n",
       "    </tr>\n",
       "    <tr>\n",
       "      <th>$615-$645</th>\n",
       "      <td>635.166667</td>\n",
       "      <td>79.079225</td>\n",
       "      <td>92.636050</td>\n",
       "      <td>81.891436</td>\n",
       "      <td>100.0</td>\n",
       "      <td>96.318025</td>\n",
       "    </tr>\n",
       "    <tr>\n",
       "      <th>$645-$675</th>\n",
       "      <td>652.333333</td>\n",
       "      <td>76.997210</td>\n",
       "      <td>89.041475</td>\n",
       "      <td>81.027843</td>\n",
       "      <td>100.0</td>\n",
       "      <td>94.520737</td>\n",
       "    </tr>\n",
       "  </tbody>\n",
       "</table>\n",
       "</div>"
      ],
      "text/plain": [
       "                      Per Stu Budget  Avg Stu Math Score  % Pass Math  \\\n",
       "Est Per Stu Spending                                                    \n",
       "<$585                     581.000000           83.455399   100.000000   \n",
       "$585-$615                 604.500000           83.599686   100.000000   \n",
       "$615-$645                 635.166667           79.079225    92.636050   \n",
       "$645-$675                 652.333333           76.997210    89.041475   \n",
       "\n",
       "                      Avg Stu Reading Score  % Pass Reading   Pass Rate  \n",
       "Est Per Stu Spending                                                     \n",
       "<$585                             83.933814           100.0  100.000000  \n",
       "$585-$615                         83.885211           100.0  100.000000  \n",
       "$615-$645                         81.891436           100.0   96.318025  \n",
       "$645-$675                         81.027843           100.0   94.520737  "
      ]
     },
     "execution_count": 83,
     "metadata": {},
     "output_type": "execute_result"
    }
   ],
   "source": [
    "# Score summary based on school per student budget - table seven\n",
    "school_spending = school_perstu.groupby(\"Est Per Stu Spending\")\n",
    "school_spending.mean()"
   ]
  },
  {
   "cell_type": "code",
   "execution_count": 84,
   "metadata": {},
   "outputs": [
    {
     "data": {
      "text/html": [
       "<div>\n",
       "<style>\n",
       "    .dataframe thead tr:only-child th {\n",
       "        text-align: right;\n",
       "    }\n",
       "\n",
       "    .dataframe thead th {\n",
       "        text-align: left;\n",
       "    }\n",
       "\n",
       "    .dataframe tbody tr th {\n",
       "        vertical-align: top;\n",
       "    }\n",
       "</style>\n",
       "<table border=\"1\" class=\"dataframe\">\n",
       "  <thead>\n",
       "    <tr style=\"text-align: right;\">\n",
       "      <th></th>\n",
       "      <th># Students</th>\n",
       "      <th>Avg Stu Math Score</th>\n",
       "      <th>% Pass Math</th>\n",
       "      <th>Avg Stu Reading Score</th>\n",
       "      <th>% Pass Reading</th>\n",
       "      <th>Pass Rate</th>\n",
       "    </tr>\n",
       "    <tr>\n",
       "      <th>School Name</th>\n",
       "      <th></th>\n",
       "      <th></th>\n",
       "      <th></th>\n",
       "      <th></th>\n",
       "      <th></th>\n",
       "      <th></th>\n",
       "    </tr>\n",
       "  </thead>\n",
       "  <tbody>\n",
       "    <tr>\n",
       "      <th>Bailey High School</th>\n",
       "      <td>4976.0</td>\n",
       "      <td>77.048432</td>\n",
       "      <td>89.529743</td>\n",
       "      <td>81.033963</td>\n",
       "      <td>100.0</td>\n",
       "      <td>94.764871</td>\n",
       "    </tr>\n",
       "    <tr>\n",
       "      <th>Cabrera High School</th>\n",
       "      <td>1858.0</td>\n",
       "      <td>83.061895</td>\n",
       "      <td>100.000000</td>\n",
       "      <td>83.975780</td>\n",
       "      <td>100.0</td>\n",
       "      <td>100.000000</td>\n",
       "    </tr>\n",
       "    <tr>\n",
       "      <th>Figueroa High School</th>\n",
       "      <td>2949.0</td>\n",
       "      <td>76.711767</td>\n",
       "      <td>88.436758</td>\n",
       "      <td>81.158020</td>\n",
       "      <td>100.0</td>\n",
       "      <td>94.218379</td>\n",
       "    </tr>\n",
       "    <tr>\n",
       "      <th>Ford High School</th>\n",
       "      <td>2739.0</td>\n",
       "      <td>77.102592</td>\n",
       "      <td>89.302665</td>\n",
       "      <td>80.746258</td>\n",
       "      <td>100.0</td>\n",
       "      <td>94.651333</td>\n",
       "    </tr>\n",
       "    <tr>\n",
       "      <th>Griffin High School</th>\n",
       "      <td>1468.0</td>\n",
       "      <td>83.351499</td>\n",
       "      <td>100.000000</td>\n",
       "      <td>83.816757</td>\n",
       "      <td>100.0</td>\n",
       "      <td>100.000000</td>\n",
       "    </tr>\n",
       "  </tbody>\n",
       "</table>\n",
       "</div>"
      ],
      "text/plain": [
       "                      # Students  Avg Stu Math Score  % Pass Math  \\\n",
       "School Name                                                         \n",
       "Bailey High School        4976.0           77.048432    89.529743   \n",
       "Cabrera High School       1858.0           83.061895   100.000000   \n",
       "Figueroa High School      2949.0           76.711767    88.436758   \n",
       "Ford High School          2739.0           77.102592    89.302665   \n",
       "Griffin High School       1468.0           83.351499   100.000000   \n",
       "\n",
       "                      Avg Stu Reading Score  % Pass Reading   Pass Rate  \n",
       "School Name                                                              \n",
       "Bailey High School                81.033963           100.0   94.764871  \n",
       "Cabrera High School               83.975780           100.0  100.000000  \n",
       "Figueroa High School              81.158020           100.0   94.218379  \n",
       "Ford High School                  80.746258           100.0   94.651333  \n",
       "Griffin High School               83.816757           100.0  100.000000  "
      ]
     },
     "execution_count": 84,
     "metadata": {},
     "output_type": "execute_result"
    }
   ],
   "source": [
    "# create scores (pass rate) by school size\n",
    "school_size = school_summary.iloc[:,[1, 4, 5, 6, 7, 8]]\n",
    "school_size.head()"
   ]
  },
  {
   "cell_type": "code",
   "execution_count": 85,
   "metadata": {
    "collapsed": true
   },
   "outputs": [],
   "source": [
    "# create bin and bin names\n",
    "bins2 = [0, 1000, 2000, 5000]\n",
    "\n",
    "group_names2 = [\"Small(<1000 stu)\", \"Medium (1000-2000 stu)\", \"Large (2000-5000 stu)\"]"
   ]
  },
  {
   "cell_type": "code",
   "execution_count": 86,
   "metadata": {},
   "outputs": [
    {
     "data": {
      "text/plain": [
       "School Name\n",
       "Bailey High School        Large (2000-5000 stu)\n",
       "Cabrera High School      Medium (1000-2000 stu)\n",
       "Figueroa High School      Large (2000-5000 stu)\n",
       "Ford High School          Large (2000-5000 stu)\n",
       "Griffin High School      Medium (1000-2000 stu)\n",
       "Hernandez High School     Large (2000-5000 stu)\n",
       "Holden High School             Small(<1000 stu)\n",
       "Huang High School         Large (2000-5000 stu)\n",
       "Johnson High School       Large (2000-5000 stu)\n",
       "Pena High School               Small(<1000 stu)\n",
       "Rodriguez High School     Large (2000-5000 stu)\n",
       "Shelton High School      Medium (1000-2000 stu)\n",
       "Thomas High School       Medium (1000-2000 stu)\n",
       "Wilson High School        Large (2000-5000 stu)\n",
       "Wright High School       Medium (1000-2000 stu)\n",
       "Name: # Students, dtype: category\n",
       "Categories (3, object): [Small(<1000 stu) < Medium (1000-2000 stu) < Large (2000-5000 stu)]"
      ]
     },
     "execution_count": 86,
     "metadata": {},
     "output_type": "execute_result"
    }
   ],
   "source": [
    "pd.cut(school_size[\"# Students\"], bins2, labels=group_names2)"
   ]
  },
  {
   "cell_type": "code",
   "execution_count": 87,
   "metadata": {},
   "outputs": [
    {
     "name": "stderr",
     "output_type": "stream",
     "text": [
      "C:\\Users\\brbal\\AppData\\Local\\conda\\conda\\envs\\PythonData\\lib\\site-packages\\ipykernel\\__main__.py:1: SettingWithCopyWarning: \n",
      "A value is trying to be set on a copy of a slice from a DataFrame.\n",
      "Try using .loc[row_indexer,col_indexer] = value instead\n",
      "\n",
      "See the caveats in the documentation: http://pandas.pydata.org/pandas-docs/stable/indexing.html#indexing-view-versus-copy\n",
      "  if __name__ == '__main__':\n"
     ]
    }
   ],
   "source": [
    "school_size[\"School Size\"] = pd.cut(school_size[\"# Students\"], bins2, labels=group_names2)\n",
    "#school_size.head()"
   ]
  },
  {
   "cell_type": "code",
   "execution_count": 88,
   "metadata": {},
   "outputs": [
    {
     "data": {
      "text/html": [
       "<div>\n",
       "<style>\n",
       "    .dataframe thead tr:only-child th {\n",
       "        text-align: right;\n",
       "    }\n",
       "\n",
       "    .dataframe thead th {\n",
       "        text-align: left;\n",
       "    }\n",
       "\n",
       "    .dataframe tbody tr th {\n",
       "        vertical-align: top;\n",
       "    }\n",
       "</style>\n",
       "<table border=\"1\" class=\"dataframe\">\n",
       "  <thead>\n",
       "    <tr style=\"text-align: right;\">\n",
       "      <th></th>\n",
       "      <th># Students</th>\n",
       "      <th>Avg Stu Math Score</th>\n",
       "      <th>% Pass Math</th>\n",
       "      <th>Avg Stu Reading Score</th>\n",
       "      <th>% Pass Reading</th>\n",
       "      <th>Pass Rate</th>\n",
       "    </tr>\n",
       "    <tr>\n",
       "      <th>School Size</th>\n",
       "      <th></th>\n",
       "      <th></th>\n",
       "      <th></th>\n",
       "      <th></th>\n",
       "      <th></th>\n",
       "      <th></th>\n",
       "    </tr>\n",
       "  </thead>\n",
       "  <tbody>\n",
       "    <tr>\n",
       "      <th>Small(&lt;1000 stu)</th>\n",
       "      <td>694.500</td>\n",
       "      <td>83.821598</td>\n",
       "      <td>100.000000</td>\n",
       "      <td>83.929843</td>\n",
       "      <td>100.0</td>\n",
       "      <td>100.000000</td>\n",
       "    </tr>\n",
       "    <tr>\n",
       "      <th>Medium (1000-2000 stu)</th>\n",
       "      <td>1704.400</td>\n",
       "      <td>83.374684</td>\n",
       "      <td>100.000000</td>\n",
       "      <td>83.864438</td>\n",
       "      <td>100.0</td>\n",
       "      <td>100.000000</td>\n",
       "    </tr>\n",
       "    <tr>\n",
       "      <th>Large (2000-5000 stu)</th>\n",
       "      <td>3657.375</td>\n",
       "      <td>77.746417</td>\n",
       "      <td>90.367591</td>\n",
       "      <td>81.344493</td>\n",
       "      <td>100.0</td>\n",
       "      <td>95.183795</td>\n",
       "    </tr>\n",
       "  </tbody>\n",
       "</table>\n",
       "</div>"
      ],
      "text/plain": [
       "                        # Students  Avg Stu Math Score  % Pass Math  \\\n",
       "School Size                                                           \n",
       "Small(<1000 stu)           694.500           83.821598   100.000000   \n",
       "Medium (1000-2000 stu)    1704.400           83.374684   100.000000   \n",
       "Large (2000-5000 stu)     3657.375           77.746417    90.367591   \n",
       "\n",
       "                        Avg Stu Reading Score  % Pass Reading   Pass Rate  \n",
       "School Size                                                                \n",
       "Small(<1000 stu)                    83.929843           100.0  100.000000  \n",
       "Medium (1000-2000 stu)              83.864438           100.0  100.000000  \n",
       "Large (2000-5000 stu)               81.344493           100.0   95.183795  "
      ]
     },
     "execution_count": 88,
     "metadata": {},
     "output_type": "execute_result"
    }
   ],
   "source": [
    "# Score summary based on school size - table eight\n",
    "school_size_df = school_size.groupby(\"School Size\")\n",
    "school_size_df.mean()"
   ]
  },
  {
   "cell_type": "code",
   "execution_count": 89,
   "metadata": {
    "collapsed": true
   },
   "outputs": [],
   "source": [
    "# create scores (pass rate) by school type\n",
    "school_type = school_summary.iloc[:,[0, 4, 5, 6, 7, 8]]\n",
    "#school_type.head()"
   ]
  },
  {
   "cell_type": "code",
   "execution_count": 90,
   "metadata": {},
   "outputs": [
    {
     "data": {
      "text/html": [
       "<div>\n",
       "<style>\n",
       "    .dataframe thead tr:only-child th {\n",
       "        text-align: right;\n",
       "    }\n",
       "\n",
       "    .dataframe thead th {\n",
       "        text-align: left;\n",
       "    }\n",
       "\n",
       "    .dataframe tbody tr th {\n",
       "        vertical-align: top;\n",
       "    }\n",
       "</style>\n",
       "<table border=\"1\" class=\"dataframe\">\n",
       "  <thead>\n",
       "    <tr style=\"text-align: right;\">\n",
       "      <th></th>\n",
       "      <th>Avg Stu Math Score</th>\n",
       "      <th>% Pass Math</th>\n",
       "      <th>Avg Stu Reading Score</th>\n",
       "      <th>% Pass Reading</th>\n",
       "      <th>Pass Rate</th>\n",
       "    </tr>\n",
       "    <tr>\n",
       "      <th>School Type</th>\n",
       "      <th></th>\n",
       "      <th></th>\n",
       "      <th></th>\n",
       "      <th></th>\n",
       "      <th></th>\n",
       "    </tr>\n",
       "  </thead>\n",
       "  <tbody>\n",
       "    <tr>\n",
       "      <th>Charter</th>\n",
       "      <td>83.473852</td>\n",
       "      <td>100.000000</td>\n",
       "      <td>83.896421</td>\n",
       "      <td>100.0</td>\n",
       "      <td>100.000000</td>\n",
       "    </tr>\n",
       "    <tr>\n",
       "      <th>District</th>\n",
       "      <td>76.956733</td>\n",
       "      <td>88.991533</td>\n",
       "      <td>80.966636</td>\n",
       "      <td>100.0</td>\n",
       "      <td>94.495766</td>\n",
       "    </tr>\n",
       "  </tbody>\n",
       "</table>\n",
       "</div>"
      ],
      "text/plain": [
       "             Avg Stu Math Score  % Pass Math  Avg Stu Reading Score  \\\n",
       "School Type                                                           \n",
       "Charter               83.473852   100.000000              83.896421   \n",
       "District              76.956733    88.991533              80.966636   \n",
       "\n",
       "             % Pass Reading   Pass Rate  \n",
       "School Type                              \n",
       "Charter               100.0  100.000000  \n",
       "District              100.0   94.495766  "
      ]
     },
     "execution_count": 90,
     "metadata": {},
     "output_type": "execute_result"
    }
   ],
   "source": [
    "# Score summary based on school type - table eight\n",
    "school_type_df = school_type.groupby(\"School Type\")\n",
    "school_type_df.mean()"
   ]
  },
  {
   "cell_type": "code",
   "execution_count": null,
   "metadata": {
    "collapsed": true
   },
   "outputs": [],
   "source": []
  }
 ],
 "metadata": {
  "kernelspec": {
   "display_name": "Python [conda env:PythonData]",
   "language": "python",
   "name": "conda-env-PythonData-py"
  },
  "language_info": {
   "codemirror_mode": {
    "name": "ipython",
    "version": 3
   },
   "file_extension": ".py",
   "mimetype": "text/x-python",
   "name": "python",
   "nbconvert_exporter": "python",
   "pygments_lexer": "ipython3",
   "version": "3.6.3"
  }
 },
 "nbformat": 4,
 "nbformat_minor": 2
}
